{
 "cells": [
  {
   "cell_type": "markdown",
   "id": "54921376",
   "metadata": {},
   "source": [
    "# Keras regression\n",
    "\n",
    "Example how to use Keras for solving regression task and exploring difference between model configurations."
   ]
  },
  {
   "cell_type": "code",
   "execution_count": null,
   "id": "c54fec81",
   "metadata": {},
   "outputs": [],
   "source": [
    "import pandas as pd\n",
    "import tensorflow as tf\n",
    "from tensorflow import keras\n",
    "from tensorflow.keras.layers import Dense, Input\n",
    "from tensorflow.keras.models import Model\n",
    "import numpy as np\n",
    "import matplotlib.pyplot as plt"
   ]
  },
  {
   "cell_type": "markdown",
   "id": "551ee8ec",
   "metadata": {},
   "source": [
    "## Downloading data\n",
    "\n",
    "Data are downloaded from URL bellow. Pandas can load data locally or download it from internet."
   ]
  },
  {
   "cell_type": "markdown",
   "id": "28ef318c",
   "metadata": {},
   "source": [
    "https://archive.ics.uci.edu/ml/datasets/auto+mpg"
   ]
  },
  {
   "cell_type": "code",
   "execution_count": null,
   "id": "0fe7c240",
   "metadata": {},
   "outputs": [],
   "source": [
    "# url for downloading the data\n",
    "URL = 'http://archive.ics.uci.edu/ml/machine-learning-databases/auto-mpg/auto-mpg.data'\n",
    "# column names for dataset, column names are not included in csv file, so we need to specify them separately.\n",
    "COLUMN_NAMES = ['MPG', 'Cylinders', 'Displacement', 'Horsepower', 'Weight', 'Acceleration', 'Model Year', 'Origin']\n",
    "\n",
    "dataset = pd.read_csv(\n",
    "    # URL data source\n",
    "    URL, \n",
    "    # set column names in dataset\n",
    "    names=COLUMN_NAMES,\n",
    "    # there are some unknown values in data marked by '?', we will use None value instead of them\n",
    "    na_values='?', \n",
    "    # values in csv are separated by space\n",
    "    sep=' ',\n",
    "    # ignore values starting with tab - we don't need to know vehicle names in this case\n",
    "    comment='\\t',  \n",
    "    # skip spaces after separator\n",
    "    skipinitialspace=True)"
   ]
  },
  {
   "cell_type": "markdown",
   "id": "c66f652a",
   "metadata": {},
   "source": [
    "Display downloaded data."
   ]
  },
  {
   "cell_type": "code",
   "execution_count": null,
   "id": "30bae157",
   "metadata": {},
   "outputs": [],
   "source": [
    "dataset"
   ]
  },
  {
   "cell_type": "markdown",
   "id": "0f59a57f",
   "metadata": {},
   "source": [
    "## Cleaning the data\n",
    "\n",
    "Show how many unknown values are in the data."
   ]
  },
  {
   "cell_type": "code",
   "execution_count": null,
   "id": "a130c3cd",
   "metadata": {},
   "outputs": [],
   "source": [
    "dataset.isna().sum()"
   ]
  },
  {
   "cell_type": "markdown",
   "id": "71c06f59",
   "metadata": {},
   "source": [
    "Delete records with unknwon data."
   ]
  },
  {
   "cell_type": "code",
   "execution_count": null,
   "id": "46f51cc3",
   "metadata": {},
   "outputs": [],
   "source": [
    "dataset = dataset.dropna()\n",
    "display(dataset.isna().sum())"
   ]
  },
  {
   "cell_type": "markdown",
   "id": "d214b7dd",
   "metadata": {},
   "source": [
    "## Standartization\n",
    "\n",
    "$$ {X - \\mu \\over \\sigma} $$\n",
    "\n",
    "Where:\n",
    "* $ \\mu $ is mean \n",
    "* $ \\sigma $ is standard deviation "
   ]
  },
  {
   "cell_type": "code",
   "execution_count": null,
   "id": "43bd186e",
   "metadata": {},
   "outputs": [],
   "source": [
    "def standardize(data):\n",
    "    # data could be pandas.Series or whole DataFrames\n",
    "    return (data-data.mean())/data.std()"
   ]
  },
  {
   "cell_type": "markdown",
   "id": "f44c52f9",
   "metadata": {},
   "source": [
    "## Linear regression with one feature\n",
    "\n",
    "First we will use neural network with only one fully connected unit."
   ]
  },
  {
   "cell_type": "markdown",
   "id": "d42c2995",
   "metadata": {},
   "source": [
    "Separate data to train and test sets by assigning 80% of data to train."
   ]
  },
  {
   "cell_type": "code",
   "execution_count": null,
   "id": "eb519abf",
   "metadata": {},
   "outputs": [],
   "source": [
    "train_dataset = dataset.sample(frac = 0.8, random_state = 42)\n",
    "test_dataset = dataset.drop(train_dataset.index)"
   ]
  },
  {
   "cell_type": "markdown",
   "id": "50ba0c5d",
   "metadata": {},
   "source": [
    "Extracting labels."
   ]
  },
  {
   "cell_type": "code",
   "execution_count": null,
   "id": "6d28ce4b",
   "metadata": {},
   "outputs": [],
   "source": [
    "train_labels = train_dataset.pop('MPG')\n",
    "test_labels = test_dataset.pop('MPG')"
   ]
  },
  {
   "cell_type": "markdown",
   "id": "ce5daa38",
   "metadata": {},
   "source": [
    "Standardize input feature - horsepower."
   ]
  },
  {
   "cell_type": "code",
   "execution_count": null,
   "id": "4a59d504",
   "metadata": {},
   "outputs": [],
   "source": [
    "train_features = standardize(train_dataset['Horsepower'])\n",
    "test_features = standardize(test_dataset['Horsepower'])"
   ]
  },
  {
   "cell_type": "code",
   "execution_count": null,
   "id": "085c1f59",
   "metadata": {},
   "outputs": [],
   "source": [
    "train_features"
   ]
  },
  {
   "cell_type": "markdown",
   "id": "72430035",
   "metadata": {},
   "source": [
    "### Setting up the model"
   ]
  },
  {
   "cell_type": "markdown",
   "id": "8397b37e",
   "metadata": {},
   "source": [
    "I will use only one layer model with one unit and without activation function. This is basically linear regression model:\n",
    "$$ y = wx + b $$"
   ]
  },
  {
   "cell_type": "code",
   "execution_count": null,
   "id": "d712ede9",
   "metadata": {},
   "outputs": [],
   "source": [
    "# set up Input layer - input data will have one feature\n",
    "input_layer = Input(shape=(1,))\n",
    "# add layer with 1 unit and without activation function\n",
    "output_layer = Dense(1)(input_layer)\n",
    "# create model\n",
    "horsepower_model = Model(inputs = input_layer, outputs = output_layer)"
   ]
  },
  {
   "cell_type": "markdown",
   "id": "090b316e",
   "metadata": {},
   "source": [
    "Summary of the model."
   ]
  },
  {
   "cell_type": "code",
   "execution_count": null,
   "id": "0b545b45",
   "metadata": {},
   "outputs": [],
   "source": [
    "horsepower_model.summary()"
   ]
  },
  {
   "cell_type": "markdown",
   "id": "a3d72da9",
   "metadata": {},
   "source": [
    "### Prediction with untrained model"
   ]
  },
  {
   "cell_type": "markdown",
   "id": "3c35cebc",
   "metadata": {},
   "source": [
    "Function for plotting results."
   ]
  },
  {
   "cell_type": "code",
   "execution_count": null,
   "id": "00f940bf",
   "metadata": {},
   "outputs": [],
   "source": [
    "def plot_horsepower(x, y):\n",
    "    # scatter plot with train features on X and labels on Y axis\n",
    "    plt.scatter(train_features, train_labels, label='Data')\n",
    "    # plot the linear regression plane\n",
    "    plt.plot(x, y, color='k', label='Predictions')\n",
    "    # setup the labels\n",
    "    plt.xlabel('Horsepower')\n",
    "    plt.ylabel('MPG')\n",
    "    plt.legend()"
   ]
  },
  {
   "cell_type": "markdown",
   "id": "cc259ef8",
   "metadata": {},
   "source": [
    "Plot the results."
   ]
  },
  {
   "cell_type": "code",
   "execution_count": null,
   "id": "da6c900a",
   "metadata": {},
   "outputs": [],
   "source": [
    "# create 250 item array from minimum train value to maximum to plot the regression plane\n",
    "x = np.linspace(train_features.min(), train_features.max(), 250)\n",
    "# run prediction on untrained model with random weights\n",
    "y = horsepower_model.predict(x)\n",
    "\n",
    "plot_horsepower(x, y)"
   ]
  },
  {
   "cell_type": "markdown",
   "id": "c42d6a71",
   "metadata": {},
   "source": [
    "### Model training\n",
    "\n",
    "Setting up model for training."
   ]
  },
  {
   "cell_type": "code",
   "execution_count": null,
   "id": "b94e3e10",
   "metadata": {},
   "outputs": [],
   "source": [
    "horsepower_model.compile(\n",
    "    # using Adam as an optimizer\n",
    "    optimizer=tf.keras.optimizers.Adam(learning_rate=0.1),\n",
    "    # mean absolute error loss function - less sensitive to outliers than MSE\n",
    "    loss='mean_absolute_error')"
   ]
  },
  {
   "cell_type": "code",
   "execution_count": null,
   "id": "a54a8389",
   "metadata": {
    "scrolled": true
   },
   "outputs": [],
   "source": [
    "%%time\n",
    "history = horsepower_model.fit(\n",
    "    # train data\n",
    "    train_features,\n",
    "    # labels\n",
    "    train_labels,\n",
    "    # epoch count\n",
    "    epochs=100,\n",
    "    # log level\n",
    "    verbose=1,\n",
    "    # 20% of train data take as validation set \n",
    "    validation_split = 0.2)"
   ]
  },
  {
   "cell_type": "markdown",
   "id": "6104b818",
   "metadata": {},
   "source": [
    "Plotting loss function"
   ]
  },
  {
   "cell_type": "code",
   "execution_count": null,
   "id": "443cfb29",
   "metadata": {},
   "outputs": [],
   "source": [
    "def plot_loss(history):\n",
    "    # plot loss function on training set\n",
    "    plt.plot(history.history['loss'], label='loss')\n",
    "    # plot loss function on validation set\n",
    "    plt.plot(history.history['val_loss'], label='val_loss')\n",
    "    # set Y axis limit\n",
    "    plt.ylim([0, 10])\n",
    "    plt.xlabel('Epoch')\n",
    "    plt.ylabel('Error [MPG]')\n",
    "    plt.legend()\n",
    "    plt.grid(True)"
   ]
  },
  {
   "cell_type": "code",
   "execution_count": null,
   "id": "d8bf7f44",
   "metadata": {},
   "outputs": [],
   "source": [
    "plot_loss(history)"
   ]
  },
  {
   "cell_type": "markdown",
   "id": "f278e74a",
   "metadata": {},
   "source": [
    "### Evaluating results"
   ]
  },
  {
   "cell_type": "code",
   "execution_count": null,
   "id": "a0555fd2",
   "metadata": {},
   "outputs": [],
   "source": [
    "x = np.linspace(train_features.min(), train_features.max(), 250)\n",
    "y = horsepower_model.predict(x)\n",
    "\n",
    "plot_horsepower(x, y)"
   ]
  },
  {
   "cell_type": "markdown",
   "id": "44910039",
   "metadata": {},
   "source": [
    "Evaluating model on test data."
   ]
  },
  {
   "cell_type": "code",
   "execution_count": null,
   "id": "51a3bcc4",
   "metadata": {},
   "outputs": [],
   "source": [
    "error_on_test_data = horsepower_model.evaluate(test_features, test_labels, verbose=0)\n",
    "print(error_on_test_data)"
   ]
  },
  {
   "cell_type": "code",
   "execution_count": null,
   "id": "087d456b",
   "metadata": {},
   "outputs": [],
   "source": [
    "test_results = {}\n",
    "test_results['horsepower_model'] = error_on_test_data"
   ]
  },
  {
   "cell_type": "markdown",
   "id": "dd1182f9",
   "metadata": {},
   "source": [
    "## Linear regression with multiple features\n",
    "\n",
    "Now we can try if model gets better using more features."
   ]
  },
  {
   "cell_type": "code",
   "execution_count": null,
   "id": "6c913c4b",
   "metadata": {},
   "outputs": [],
   "source": [
    "train_dataset.shape"
   ]
  },
  {
   "cell_type": "code",
   "execution_count": null,
   "id": "ffdbdd63",
   "metadata": {},
   "outputs": [],
   "source": [
    "# we are using all features we have, not just horsepower like before\n",
    "train_features = standardize(train_dataset)\n",
    "test_features = standardize(test_dataset)"
   ]
  },
  {
   "cell_type": "markdown",
   "id": "43c29c9b",
   "metadata": {},
   "source": [
    "### Setting up the model\n",
    "\n",
    "Only difference is in number of input features - 7 instead of 1."
   ]
  },
  {
   "cell_type": "code",
   "execution_count": null,
   "id": "8440b3a4",
   "metadata": {},
   "outputs": [],
   "source": [
    "# now we have 7 input features instead of one!\n",
    "input_layer = Input(shape=(7,))\n",
    "# add layer with 1 unit and without activation function\n",
    "output_layer = Dense(1)(input_layer)\n",
    "# create model\n",
    "linear_model = Model(inputs = input_layer, outputs = output_layer)"
   ]
  },
  {
   "cell_type": "code",
   "execution_count": null,
   "id": "bae6ceab",
   "metadata": {},
   "outputs": [],
   "source": [
    "linear_model.summary()"
   ]
  },
  {
   "cell_type": "markdown",
   "id": "051ed4e8",
   "metadata": {},
   "source": [
    "### Model training"
   ]
  },
  {
   "cell_type": "code",
   "execution_count": null,
   "id": "af6c6acd",
   "metadata": {},
   "outputs": [],
   "source": [
    "linear_model.compile(\n",
    "    optimizer=tf.keras.optimizers.Adam(learning_rate=0.1),\n",
    "    loss='mean_absolute_error')"
   ]
  },
  {
   "cell_type": "code",
   "execution_count": null,
   "id": "55041207",
   "metadata": {
    "scrolled": true
   },
   "outputs": [],
   "source": [
    "%%time\n",
    "history = linear_model.fit(\n",
    "    train_features,\n",
    "    train_labels,\n",
    "    epochs=100,\n",
    "    verbose=1,\n",
    "    validation_split = 0.2)"
   ]
  },
  {
   "cell_type": "code",
   "execution_count": null,
   "id": "ec0dfdef",
   "metadata": {},
   "outputs": [],
   "source": [
    "plot_loss(history)"
   ]
  },
  {
   "cell_type": "markdown",
   "id": "68e08a18",
   "metadata": {},
   "source": [
    "### Evaluating results"
   ]
  },
  {
   "cell_type": "code",
   "execution_count": null,
   "id": "75c3ebc8",
   "metadata": {},
   "outputs": [],
   "source": [
    "error_on_test_data = linear_model.evaluate(test_features, test_labels, verbose=0)\n",
    "print(error_on_test_data)"
   ]
  },
  {
   "cell_type": "code",
   "execution_count": null,
   "id": "270399f1",
   "metadata": {},
   "outputs": [],
   "source": [
    "test_results['linear_model'] = error_on_test_data"
   ]
  },
  {
   "cell_type": "markdown",
   "id": "a0ecf8ac",
   "metadata": {},
   "source": [
    "## Deep neural network with only single input feature\n",
    "\n",
    "What if we use deep non-linear model for only single input feature."
   ]
  },
  {
   "cell_type": "code",
   "execution_count": null,
   "id": "8b22fd41",
   "metadata": {},
   "outputs": [],
   "source": [
    "train_features = standardize(train_dataset['Horsepower'])\n",
    "test_features = standardize(test_dataset['Horsepower'])"
   ]
  },
  {
   "cell_type": "markdown",
   "id": "4e5d880c",
   "metadata": {},
   "source": [
    "### Setting up the model\n",
    "\n",
    "Using more complicated architecture - with hidden layers, multiple units and ReLu activation functions."
   ]
  },
  {
   "cell_type": "code",
   "execution_count": null,
   "id": "ce1e4a06",
   "metadata": {},
   "outputs": [],
   "source": [
    "# we are using only horse power again\n",
    "input_layer = Input(shape=(1,))\n",
    "# adding relu as an activation function for hidden layers\n",
    "x = Dense(64, activation='relu')(input_layer)\n",
    "x = Dense(64, activation='relu')(x)\n",
    "# output layer for the regression is always single unit Dense layer without activation function\n",
    "output_layer = Dense(1)(x)\n",
    "dnn_horsepower_model = Model(inputs = input_layer, outputs = output_layer)"
   ]
  },
  {
   "cell_type": "code",
   "execution_count": null,
   "id": "02a49ae7",
   "metadata": {},
   "outputs": [],
   "source": [
    "dnn_horsepower_model.summary()"
   ]
  },
  {
   "cell_type": "markdown",
   "id": "3ba0097d",
   "metadata": {},
   "source": [
    "### Model training"
   ]
  },
  {
   "cell_type": "code",
   "execution_count": null,
   "id": "c025a4bf",
   "metadata": {},
   "outputs": [],
   "source": [
    "dnn_horsepower_model.compile(loss='mean_absolute_error', optimizer=tf.keras.optimizers.Adam())"
   ]
  },
  {
   "cell_type": "code",
   "execution_count": null,
   "id": "555ce6b8",
   "metadata": {},
   "outputs": [],
   "source": [
    "%%time\n",
    "history = dnn_horsepower_model.fit(\n",
    "    train_features,\n",
    "    train_labels,\n",
    "    validation_split=0.2,\n",
    "    verbose=1, \n",
    "    epochs=100)"
   ]
  },
  {
   "cell_type": "code",
   "execution_count": null,
   "id": "f36bb6b2",
   "metadata": {},
   "outputs": [],
   "source": [
    "plot_loss(history)"
   ]
  },
  {
   "cell_type": "markdown",
   "id": "1ed8746a",
   "metadata": {},
   "source": [
    "### Evaluating results"
   ]
  },
  {
   "cell_type": "code",
   "execution_count": null,
   "id": "b5e9548e",
   "metadata": {},
   "outputs": [],
   "source": [
    "error_on_test_data = dnn_horsepower_model.evaluate(test_features, test_labels, verbose=0)\n",
    "print(error_on_test_data)"
   ]
  },
  {
   "cell_type": "code",
   "execution_count": null,
   "id": "8017df07",
   "metadata": {},
   "outputs": [],
   "source": [
    "test_results['dnn_horsepower_model'] = error_on_test_data"
   ]
  },
  {
   "cell_type": "markdown",
   "id": "d7cb53f2",
   "metadata": {},
   "source": [
    "Plotting the prediction line."
   ]
  },
  {
   "cell_type": "code",
   "execution_count": null,
   "id": "c20e655f",
   "metadata": {},
   "outputs": [],
   "source": [
    "x = np.linspace(train_features.min(), train_features.max(), 250)\n",
    "y = dnn_horsepower_model.predict(x)\n",
    "\n",
    "plot_horsepower(x, y)"
   ]
  },
  {
   "cell_type": "markdown",
   "id": "4f4fa328",
   "metadata": {},
   "source": [
    "## Deep neural network with multiple input features\n",
    "\n",
    "Last but not least - deep neural network with all input features we can use."
   ]
  },
  {
   "cell_type": "code",
   "execution_count": null,
   "id": "58c1bfce",
   "metadata": {},
   "outputs": [],
   "source": [
    "train_features = standardize(train_dataset)\n",
    "test_features = standardize(test_dataset)"
   ]
  },
  {
   "cell_type": "markdown",
   "id": "e2c8b357",
   "metadata": {},
   "source": [
    "### Setting up the model"
   ]
  },
  {
   "cell_type": "code",
   "execution_count": null,
   "id": "aef5aece",
   "metadata": {},
   "outputs": [],
   "source": [
    "input_layer = Input(shape=(7,))\n",
    "x = Dense(64, activation='relu')(input_layer)\n",
    "x = Dense(64, activation='relu')(x)\n",
    "output_layer = Dense(1)(x)\n",
    "dnn_model = Model(inputs = input_layer, outputs = output_layer)"
   ]
  },
  {
   "cell_type": "code",
   "execution_count": null,
   "id": "1588fd06",
   "metadata": {},
   "outputs": [],
   "source": [
    "dnn_model.summary()"
   ]
  },
  {
   "cell_type": "markdown",
   "id": "680ece9f",
   "metadata": {},
   "source": [
    "### Model training"
   ]
  },
  {
   "cell_type": "code",
   "execution_count": null,
   "id": "d8cdfdbb",
   "metadata": {},
   "outputs": [],
   "source": [
    "dnn_model.compile(loss='mean_absolute_error', optimizer=tf.keras.optimizers.Adam())"
   ]
  },
  {
   "cell_type": "code",
   "execution_count": null,
   "id": "ee3896b8",
   "metadata": {
    "scrolled": true
   },
   "outputs": [],
   "source": [
    "%%time\n",
    "history = dnn_model.fit(\n",
    "    train_features,\n",
    "    train_labels,\n",
    "    validation_split=0.2,\n",
    "    verbose=1, \n",
    "    epochs=100)"
   ]
  },
  {
   "cell_type": "code",
   "execution_count": null,
   "id": "85aa96b2",
   "metadata": {},
   "outputs": [],
   "source": [
    "plot_loss(history)"
   ]
  },
  {
   "cell_type": "markdown",
   "id": "4cff8b33",
   "metadata": {},
   "source": [
    "### Evaluating results"
   ]
  },
  {
   "cell_type": "code",
   "execution_count": null,
   "id": "1a2cf944",
   "metadata": {},
   "outputs": [],
   "source": [
    "error_on_test_data = dnn_model.evaluate(test_features, test_labels, verbose=0)\n",
    "print(error_on_test_data)"
   ]
  },
  {
   "cell_type": "code",
   "execution_count": null,
   "id": "4a3688c4",
   "metadata": {},
   "outputs": [],
   "source": [
    "test_results['dnn_model'] = error_on_test_data"
   ]
  },
  {
   "cell_type": "markdown",
   "id": "740df6b4",
   "metadata": {},
   "source": [
    "## Total result\n",
    "\n",
    "Summary of our models performance."
   ]
  },
  {
   "cell_type": "code",
   "execution_count": null,
   "id": "acc4b812",
   "metadata": {},
   "outputs": [],
   "source": [
    "# load result dictionary to pandas DataFrame and transpose it for nice result table.\n",
    "pd.DataFrame(test_results, index=['Mean absolute error [MPG]']).T"
   ]
  },
  {
   "cell_type": "code",
   "execution_count": null,
   "id": "d9af802d",
   "metadata": {},
   "outputs": [],
   "source": []
  }
 ],
 "metadata": {
  "kernelspec": {
   "display_name": "Python 3 (ipykernel)",
   "language": "python",
   "name": "python3"
  },
  "language_info": {
   "codemirror_mode": {
    "name": "ipython",
    "version": 3
   },
   "file_extension": ".py",
   "mimetype": "text/x-python",
   "name": "python",
   "nbconvert_exporter": "python",
   "pygments_lexer": "ipython3",
   "version": "3.8.12"
  }
 },
 "nbformat": 4,
 "nbformat_minor": 5
}
