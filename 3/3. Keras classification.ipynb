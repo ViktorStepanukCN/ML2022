{
 "cells": [
  {
   "cell_type": "markdown",
   "id": "62611d19",
   "metadata": {},
   "source": [
    "# Keras classification\n",
    "\n",
    "Example how to use Keras for solving classification task."
   ]
  },
  {
   "cell_type": "code",
   "execution_count": null,
   "id": "d8035271",
   "metadata": {},
   "outputs": [],
   "source": [
    "import tensorflow as tf\n",
    "from tensorflow import keras\n",
    "from tensorflow.keras.layers import Dense, Flatten, Input\n",
    "from tensorflow.keras.models import Model\n",
    "import numpy as np\n",
    "import matplotlib.pyplot as plt"
   ]
  },
  {
   "cell_type": "markdown",
   "id": "f6c87996",
   "metadata": {},
   "source": [
    "## Downloading the data\n",
    "\n",
    "We will use fashion MNIST dataset - 10 types of clothes on small pictures."
   ]
  },
  {
   "cell_type": "code",
   "execution_count": null,
   "id": "887cd5c1",
   "metadata": {},
   "outputs": [],
   "source": [
    "fashion_mnist = keras.datasets.fashion_mnist"
   ]
  },
  {
   "cell_type": "code",
   "execution_count": null,
   "id": "9aa90baf",
   "metadata": {},
   "outputs": [],
   "source": [
    "(train_images, train_labels), (test_images, test_labels) = fashion_mnist.load_data()"
   ]
  },
  {
   "cell_type": "markdown",
   "id": "eeeef90e",
   "metadata": {},
   "source": [
    "Training set."
   ]
  },
  {
   "cell_type": "code",
   "execution_count": null,
   "id": "9e3ffae3",
   "metadata": {},
   "outputs": [],
   "source": [
    "train_images.shape"
   ]
  },
  {
   "cell_type": "markdown",
   "id": "a608fbb4",
   "metadata": {},
   "source": [
    "Test set."
   ]
  },
  {
   "cell_type": "code",
   "execution_count": null,
   "id": "98a1b158",
   "metadata": {},
   "outputs": [],
   "source": [
    "test_images.shape"
   ]
  },
  {
   "cell_type": "markdown",
   "id": "0ab682b1",
   "metadata": {},
   "source": [
    "Train labels."
   ]
  },
  {
   "cell_type": "code",
   "execution_count": null,
   "id": "dbe21500",
   "metadata": {},
   "outputs": [],
   "source": [
    "train_labels"
   ]
  },
  {
   "cell_type": "markdown",
   "id": "7fe44b3f",
   "metadata": {},
   "source": [
    "Defining class names."
   ]
  },
  {
   "cell_type": "code",
   "execution_count": null,
   "id": "75a46d8d",
   "metadata": {},
   "outputs": [],
   "source": [
    "class_names = ['T-shirt/top', 'Trouser', 'Pullover', 'Dress', 'Coat',\n",
    "               'Sandal', 'Shirt', 'Sneaker', 'Bag', 'Ankle boot']"
   ]
  },
  {
   "cell_type": "markdown",
   "id": "9ccd0a22",
   "metadata": {},
   "source": [
    "Plotting data sample."
   ]
  },
  {
   "cell_type": "code",
   "execution_count": null,
   "id": "42d58ab3",
   "metadata": {},
   "outputs": [],
   "source": [
    "plt.figure(figsize=(10, 10))\n",
    "for i in range(25):\n",
    "    # setting subplot - each image is separate subplot in 5x5 matrix\n",
    "    plt.subplot(5, 5, i+1)\n",
    "    # do not show ticks on axes\n",
    "    plt.xticks([])\n",
    "    plt.yticks([])\n",
    "    plt.imshow(train_images[i], cmap=plt.cm.binary)\n",
    "    plt.xlabel(class_names[train_labels[i]])\n",
    "plt.show()"
   ]
  },
  {
   "cell_type": "markdown",
   "id": "b0c62ab3",
   "metadata": {},
   "source": [
    "Plotting the image."
   ]
  },
  {
   "cell_type": "code",
   "execution_count": null,
   "id": "deddc8a9",
   "metadata": {},
   "outputs": [],
   "source": [
    "plt.figure()\n",
    "# plot image in grayscale\n",
    "plt.imshow(train_images[0], cmap=plt.cm.binary)\n",
    "plt.colorbar()\n",
    "plt.show()"
   ]
  },
  {
   "cell_type": "markdown",
   "id": "e51f8a9c",
   "metadata": {},
   "source": [
    "## Normalizing data\n",
    "\n",
    "Images are on grayscale ranging from 0 to 255, so we will normalize the data by dividing by 255 to get range from 0-1."
   ]
  },
  {
   "cell_type": "code",
   "execution_count": null,
   "id": "08f7606e",
   "metadata": {},
   "outputs": [],
   "source": [
    "train_images = train_images / 255.0\n",
    "test_images = test_images / 255.0"
   ]
  },
  {
   "cell_type": "code",
   "execution_count": null,
   "id": "67905ce8",
   "metadata": {
    "scrolled": true
   },
   "outputs": [],
   "source": [
    "plt.figure()\n",
    "plt.imshow(train_images[0], cmap=plt.cm.binary)\n",
    "plt.colorbar()\n",
    "plt.show()"
   ]
  },
  {
   "cell_type": "markdown",
   "id": "b8deb451",
   "metadata": {},
   "source": [
    "## Setting up model architecture\n",
    "\n",
    "We are setting up deep fully connected neural network using functional API."
   ]
  },
  {
   "cell_type": "code",
   "execution_count": null,
   "id": "04a37347",
   "metadata": {},
   "outputs": [],
   "source": [
    "# we are using 2D data, image of 28x28 pixels, so we need to reflect that in the input shape\n",
    "input_layer = Input(shape=(28, 28))\n",
    "# we do not use 2D convolutions, so we are flattening the data to 1D vector with 784 components\n",
    "x = Flatten()(input_layer)\n",
    "# 128 units of fully connected network with ReLu activation function\n",
    "x = Dense(128, activation='relu')(x)\n",
    "# we have 10 classes, so we will set Dense layer as an output layer with 10 units and softmax activation function\n",
    "output_layer = Dense(10, activation='softmax')(x)\n",
    "model = Model(inputs = input_layer, outputs = output_layer)\n",
    "model.summary()"
   ]
  },
  {
   "cell_type": "markdown",
   "id": "232bfcb3",
   "metadata": {},
   "source": [
    "## Training of the model"
   ]
  },
  {
   "cell_type": "markdown",
   "id": "7a8195bd",
   "metadata": {},
   "source": [
    "We are using adam optimizer again and SparseCategoricalCrossentropy - used when class labels are integers. For one hot encoding of the labels we would use CategoricalCrossentropy."
   ]
  },
  {
   "cell_type": "code",
   "execution_count": null,
   "id": "a97b7ba8",
   "metadata": {},
   "outputs": [],
   "source": [
    "model.compile(optimizer='adam', loss=tf.keras.losses.SparseCategoricalCrossentropy(), metrics=['accuracy'])"
   ]
  },
  {
   "cell_type": "markdown",
   "id": "ea332562",
   "metadata": {},
   "source": [
    "Training is running for 10 epochs."
   ]
  },
  {
   "cell_type": "code",
   "execution_count": null,
   "id": "1c9d0428",
   "metadata": {
    "scrolled": false
   },
   "outputs": [],
   "source": [
    "%%time\n",
    "history = model.fit(train_images, train_labels, epochs=10, validation_split=0.2)"
   ]
  },
  {
   "cell_type": "markdown",
   "id": "05df402f",
   "metadata": {},
   "source": [
    "## Training results"
   ]
  },
  {
   "cell_type": "code",
   "execution_count": null,
   "id": "c112b03e",
   "metadata": {},
   "outputs": [],
   "source": [
    "# loss function on training set\n",
    "plt.plot(history.history['loss'], label='loss')\n",
    "# loss function on validation set\n",
    "plt.plot(history.history['val_loss'], label='val_loss')\n",
    "plt.legend()\n",
    "plt.title('Loss function')\n",
    "plt.grid(True)"
   ]
  },
  {
   "cell_type": "code",
   "execution_count": null,
   "id": "108a73a8",
   "metadata": {},
   "outputs": [],
   "source": [
    "# accurancy on training set\n",
    "plt.plot(history.history['accuracy'], label='accuracy')\n",
    "# accurancy on validation set\n",
    "plt.plot(history.history['val_accuracy'], label='val_accuracy')\n",
    "plt.legend()\n",
    "plt.title('Accuracy')\n",
    "plt.grid(True)"
   ]
  },
  {
   "cell_type": "code",
   "execution_count": null,
   "id": "0faec475",
   "metadata": {},
   "outputs": [],
   "source": [
    "test_loss, test_acc = model.evaluate(test_images, test_labels, verbose=0)\n",
    "print(f'Test accuracy: {100*test_acc:.2f}%')"
   ]
  },
  {
   "cell_type": "markdown",
   "id": "98dda938",
   "metadata": {},
   "source": [
    "## Working with single prediction\n",
    "\n",
    "Since we are predicting on batches, we need to add one dimension in case of predicting single picture."
   ]
  },
  {
   "cell_type": "code",
   "execution_count": null,
   "id": "d6d95770",
   "metadata": {},
   "outputs": [],
   "source": [
    "prediction = model.predict(np.expand_dims(test_images[0], 0))"
   ]
  },
  {
   "cell_type": "code",
   "execution_count": null,
   "id": "091dde34",
   "metadata": {},
   "outputs": [],
   "source": []
  },
  {
   "cell_type": "markdown",
   "id": "64ea1ac3",
   "metadata": {},
   "source": [
    "How prediction looks like?"
   ]
  },
  {
   "cell_type": "code",
   "execution_count": null,
   "id": "c39be14d",
   "metadata": {},
   "outputs": [],
   "source": [
    "prediction"
   ]
  },
  {
   "cell_type": "code",
   "execution_count": null,
   "id": "9bddaf3c",
   "metadata": {},
   "outputs": [],
   "source": [
    "plt.figure()\n",
    "plt.imshow(train_images[0], cmap=plt.cm.binary)\n",
    "plt.title(\"{} {:2.0f}% ({})\".format(class_names[np.argmax(prediction)],\n",
    "                                         100*np.max(prediction),\n",
    "                                         class_names[test_labels[0]]), color='blue')\n",
    "plt.show()"
   ]
  },
  {
   "cell_type": "markdown",
   "id": "0df0e572",
   "metadata": {},
   "source": [
    "## Running predictions on the whole test set"
   ]
  },
  {
   "cell_type": "code",
   "execution_count": null,
   "id": "c94378a7",
   "metadata": {},
   "outputs": [],
   "source": [
    "%%time\n",
    "predictions = model.predict(test_images)"
   ]
  },
  {
   "cell_type": "markdown",
   "id": "fc558e47",
   "metadata": {},
   "source": [
    "Helper function for plotting images with predicted and true labels."
   ]
  },
  {
   "cell_type": "code",
   "execution_count": null,
   "id": "1d14dc47",
   "metadata": {},
   "outputs": [],
   "source": [
    "def plot_image(i, predictions_array, true_label, img):\n",
    "    # ground truth label\n",
    "    true_label = true_label[i]\n",
    "    # image used for prediction\n",
    "    img = img[i]\n",
    "    plt.xticks([])\n",
    "    plt.yticks([])\n",
    "\n",
    "    plt.imshow(img, cmap=plt.cm.binary)\n",
    "    # taking index of maximum prediction value\n",
    "    predicted_label = np.argmax(predictions_array)\n",
    "    # if predicted label is the same as a ground truth, use blue color, red otherwise\n",
    "    if predicted_label == true_label:\n",
    "        color = 'blue'\n",
    "    else:\n",
    "        color = 'red'\n",
    "    # just formating label\n",
    "    plt.xlabel(\"{} {:2.0f}% ({})\".format(class_names[predicted_label],\n",
    "                                         100*np.max(predictions_array),\n",
    "                                         class_names[true_label]),color=color)"
   ]
  },
  {
   "cell_type": "markdown",
   "id": "21ca9ebf",
   "metadata": {},
   "source": [
    "Bar plots with predictions."
   ]
  },
  {
   "cell_type": "code",
   "execution_count": null,
   "id": "631dcfc5",
   "metadata": {},
   "outputs": [],
   "source": [
    "def plot_value_array(i, predictions_array, true_label):\n",
    "    # ground truth\n",
    "    true_label = true_label[i]\n",
    "    # we have 10 classes, so tick for every class\n",
    "    plt.xticks(range(10))\n",
    "    plt.yticks([])\n",
    "    # plot all predictions using bar plots\n",
    "    thisplot = plt.bar(range(10), predictions_array, color=\"#777777\")\n",
    "    # softmax sum = 1, so there is no point to have bigger scale\n",
    "    plt.ylim([0, 1])\n",
    "    # prediction with maximum confidence\n",
    "    predicted_label = np.argmax(predictions_array)\n",
    "    # set colors for bad prediction\n",
    "    thisplot[predicted_label].set_color('red')\n",
    "    # set color for good prediction\n",
    "    thisplot[true_label].set_color('blue')"
   ]
  },
  {
   "cell_type": "markdown",
   "id": "0dfccb71",
   "metadata": {},
   "source": [
    "## Plotting results"
   ]
  },
  {
   "cell_type": "code",
   "execution_count": null,
   "id": "9ce42b8e",
   "metadata": {},
   "outputs": [],
   "source": [
    "i = 0\n",
    "plt.figure(figsize=(6,3))\n",
    "plt.subplot(1,2,1)\n",
    "plot_image(i, predictions[i], test_labels, test_images)\n",
    "plt.subplot(1,2,2)\n",
    "plot_value_array(i, predictions[i], test_labels)\n",
    "plt.show()"
   ]
  },
  {
   "cell_type": "code",
   "execution_count": null,
   "id": "02a4d2c0",
   "metadata": {},
   "outputs": [],
   "source": [
    "i = 12\n",
    "plt.figure(figsize=(6,3))\n",
    "plt.subplot(1,2,1)\n",
    "plot_image(i, predictions[i], test_labels, test_images)\n",
    "plt.subplot(1,2,2)\n",
    "plot_value_array(i, predictions[i],  test_labels)\n",
    "plt.show()"
   ]
  },
  {
   "cell_type": "code",
   "execution_count": null,
   "id": "514a4fcd",
   "metadata": {},
   "outputs": [],
   "source": [
    "# Plot the first X test images, their predicted labels, and the true labels.\n",
    "num_rows = 5\n",
    "num_cols = 3\n",
    "num_images = num_rows * num_cols\n",
    "plt.figure(figsize=(2 * 2 * num_cols, 2 * num_rows))\n",
    "for i in range(num_images):\n",
    "    plt.subplot(num_rows, 2 * num_cols, 2 * i + 1)\n",
    "    plot_image(i, predictions[i], test_labels, test_images)\n",
    "    plt.subplot(num_rows, 2 * num_cols, 2 * i + 2)\n",
    "    plot_value_array(i, predictions[i], test_labels)\n",
    "plt.tight_layout()\n",
    "plt.show()"
   ]
  }
 ],
 "metadata": {
  "kernelspec": {
   "display_name": "Python 3 (ipykernel)",
   "language": "python",
   "name": "python3"
  },
  "language_info": {
   "codemirror_mode": {
    "name": "ipython",
    "version": 3
   },
   "file_extension": ".py",
   "mimetype": "text/x-python",
   "name": "python",
   "nbconvert_exporter": "python",
   "pygments_lexer": "ipython3",
   "version": "3.8.12"
  }
 },
 "nbformat": 4,
 "nbformat_minor": 5
}
