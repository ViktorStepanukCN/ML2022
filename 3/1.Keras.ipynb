{
 "cells": [
  {
   "cell_type": "markdown",
   "id": "ce48975b",
   "metadata": {},
   "source": [
    "# Keras\n",
    "\n",
    "User friendly interface to TensorFlow. Provides high level building blocks, so user needs to rarelly do operations directly on tensors."
   ]
  },
  {
   "cell_type": "code",
   "execution_count": null,
   "id": "dfb16425",
   "metadata": {},
   "outputs": [],
   "source": [
    "# Keras is part of a TensorFlow nowdays\n",
    "from tensorflow import keras\n",
    "import tensorflow as tf"
   ]
  },
  {
   "cell_type": "markdown",
   "id": "0a9fbfde",
   "metadata": {},
   "source": [
    "## Model\n",
    "\n",
    "You typically start with defining model. Model encapsulates sequence of layers and their settings."
   ]
  },
  {
   "cell_type": "markdown",
   "id": "8a24c678",
   "metadata": {},
   "source": [
    "#### Sequential\n",
    "\n",
    "Only suitable for linear models."
   ]
  },
  {
   "cell_type": "code",
   "execution_count": null,
   "id": "2b105f55",
   "metadata": {},
   "outputs": [],
   "source": [
    "from tensorflow.keras.models import Sequential"
   ]
  },
  {
   "cell_type": "code",
   "execution_count": null,
   "id": "fea8386d",
   "metadata": {},
   "outputs": [],
   "source": [
    "# define model as sequential - input data will have one feature\n",
    "model = Sequential()\n",
    "# add layer with 12 perceptrons and relu activation function\n",
    "model.add(keras.layers.Dense(12, input_shape=(1,), activation='relu'))\n",
    "# output layer for regression\n",
    "model.add(keras.layers.Dense(1))"
   ]
  },
  {
   "cell_type": "code",
   "execution_count": null,
   "id": "847d0076",
   "metadata": {},
   "outputs": [],
   "source": [
    "model.summary()"
   ]
  },
  {
   "cell_type": "markdown",
   "id": "2d12665b",
   "metadata": {},
   "source": [
    "Probably need to install this to be able to run plotting\n",
    "```\n",
    "conda install graphviz\n",
    "conda install pydot\n",
    "conda install pydotplus\n",
    "```"
   ]
  },
  {
   "cell_type": "code",
   "execution_count": null,
   "id": "dc76f822",
   "metadata": {},
   "outputs": [],
   "source": [
    "tf.keras.utils.plot_model(model, show_shapes=True)"
   ]
  },
  {
   "cell_type": "markdown",
   "id": "36bdba52",
   "metadata": {},
   "source": [
    "#### Functional\n",
    "\n",
    "Different syntax, good also for complicated model structures with branching.\n",
    "\n",
    "Starts with **Input** layer, then hidden layers and output layer. Input and output are then passed to Model."
   ]
  },
  {
   "cell_type": "code",
   "execution_count": null,
   "id": "21224644",
   "metadata": {},
   "outputs": [],
   "source": [
    "from tensorflow.keras.models import Model"
   ]
  },
  {
   "cell_type": "code",
   "execution_count": null,
   "id": "5f691853",
   "metadata": {},
   "outputs": [],
   "source": [
    "# create Input layer - input data will have one feature without set batch size\n",
    "# the comma is there just to tell Python it is a tuple\n",
    "inputs = keras.layers.Input(shape=(1,))\n",
    "# add layer with 12 perceptrons and relu activation function\n",
    "x = keras.layers.Dense(12, activation='relu')(inputs)\n",
    "# output layer for regression\n",
    "outputs = keras.layers.Dense(1)(x)\n",
    "# create model\n",
    "func_model = Model(inputs = inputs, outputs = outputs)"
   ]
  },
  {
   "cell_type": "code",
   "execution_count": null,
   "id": "d0110b9b",
   "metadata": {},
   "outputs": [],
   "source": [
    "func_model.summary()"
   ]
  },
  {
   "cell_type": "code",
   "execution_count": null,
   "id": "bfdeadcb",
   "metadata": {},
   "outputs": [],
   "source": [
    "tf.keras.utils.plot_model(func_model, show_shapes=True)"
   ]
  },
  {
   "attachments": {
    "layer.drawio.png": {
     "image/png": "[encoded data removed]"
    }
   },
   "cell_type": "markdown",
   "id": "83cc6be1",
   "metadata": {},
   "source": [
    "## Layers\n",
    "\n",
    "Basic building blocks of neural networks - arrays of neurons stack together to capture complex problems.\n",
    "\n",
    "Layer encapsulates state and computation to achieve a layer purpose in the network.\n",
    "![layer.drawio.png](attachment:layer.drawio.png)\n",
    "\n",
    "In Keras you typically define:\n",
    "* Type of cells (or neurons)\n",
    "* Number of cells\n",
    "* Activation function\n",
    "* Cell specific parameters (convolution window configuration for convolution layers)"
   ]
  },
  {
   "cell_type": "markdown",
   "id": "fe800a9f",
   "metadata": {},
   "source": [
    "### Most used types"
   ]
  },
  {
   "cell_type": "markdown",
   "id": "358816ee",
   "metadata": {},
   "source": [
    "##### Dense layer\n",
    "\n",
    "Fully connected layers consisting of perceptrons."
   ]
  },
  {
   "cell_type": "code",
   "execution_count": null,
   "id": "2231ed8e",
   "metadata": {},
   "outputs": [],
   "source": [
    "# layers are in layers module in keras\n",
    "from tensorflow.keras.layers import Dense\n",
    "Dense(units = 12, activation = 'relu')"
   ]
  },
  {
   "cell_type": "markdown",
   "id": "c3287ee9",
   "metadata": {},
   "source": [
    "##### Convolution layer\n",
    "\n",
    "1D - 3D convolution layer."
   ]
  },
  {
   "cell_type": "code",
   "execution_count": null,
   "id": "7cb2a838",
   "metadata": {},
   "outputs": [],
   "source": [
    "from tensorflow.keras.layers import Conv2D\n",
    "Conv2D(filters = 128, kernel_size = (7,7), activation='relu')"
   ]
  },
  {
   "cell_type": "markdown",
   "id": "e3e6a4e3",
   "metadata": {},
   "source": [
    "##### RNN layer\n",
    "\n",
    "Typically for time series data."
   ]
  },
  {
   "cell_type": "code",
   "execution_count": null,
   "id": "694b9775",
   "metadata": {},
   "outputs": [],
   "source": [
    "from tensorflow.keras.layers import LSTM\n",
    "LSTM(units = 128)"
   ]
  },
  {
   "cell_type": "markdown",
   "id": "5b3bd17a",
   "metadata": {},
   "source": [
    "## Activation functions\n",
    "\n",
    "Needed to add non-linearity. Without activation function we would only get linear transformation.\n",
    "\n",
    "$f(x) = 2x + 3$\n",
    "\n",
    "$g(x) = 5x - 1$\n",
    "\n",
    "$f(g(x)) = 2(5x - 1) + 3 = 10x + 1$\n",
    "\n",
    "* **ReLu** is the most common activation function for hidden layers - it has no maximum value, so it is not saturating around 0 and 1 like Sigmoid (respectively -1 and 1 like Tanh) and is fast to compute\n",
    "* **Sigmoid** is mostly used in output layer for classification between two classes\n",
    "* **Softmax** is used for multiclass classification\n",
    "\n",
    "Layer without activation is used for example in last layer for regression tasks."
   ]
  },
  {
   "cell_type": "code",
   "execution_count": null,
   "id": "3092c87c",
   "metadata": {},
   "outputs": [],
   "source": [
    "from tensorflow.keras.layers import Activation\n",
    "from tensorflow.keras.activations import relu, sigmoid, tanh\n",
    "import numpy as np\n",
    "import matplotlib.pyplot as plt"
   ]
  },
  {
   "cell_type": "code",
   "execution_count": null,
   "id": "76ef8dd1",
   "metadata": {},
   "outputs": [],
   "source": [
    "relu_activation = Activation(relu)\n",
    "sigmoid_activation = Activation(sigmoid)\n",
    "tanh_activation = Activation(tanh)"
   ]
  },
  {
   "cell_type": "code",
   "execution_count": null,
   "id": "4585c445",
   "metadata": {},
   "outputs": [],
   "source": [
    "plt.figure(figsize=(10, 5))\n",
    "plt.plot(np.linspace(-5,5,100), relu_activation(np.linspace(-5,5,100)), linewidth=3, label=\"ReLu\")\n",
    "plt.plot(np.linspace(-5,5,100), sigmoid_activation(np.linspace(-5,5,100)), linewidth=3, linestyle = '--', label=\"Sigmoid\")\n",
    "plt.plot(np.linspace(-5,5,100), tanh_activation(np.linspace(-5,5,100)), linewidth=3, linestyle = 'dotted', label=\"Tanh\")\n",
    "plt.legend()\n",
    "plt.grid(True)\n",
    "plt.axis([-5, 5, -1, 1])\n",
    "plt.show()"
   ]
  },
  {
   "cell_type": "markdown",
   "id": "07aa7493",
   "metadata": {},
   "source": [
    "## Compiling model\n",
    "\n",
    "After setting up model you need to compile the model. Keras will use backend engine. The backend automatically chooses the best way to represent the network for training and making predictions.\n",
    "\n",
    "You need to specify:\n",
    "* loss function\n",
    "* optimizer\n",
    "\n",
    "And optional\n",
    "* metrics"
   ]
  },
  {
   "cell_type": "code",
   "execution_count": null,
   "id": "fec75bb1",
   "metadata": {},
   "outputs": [],
   "source": [
    "model.compile(loss='mean_squared_error', optimizer='adam', metrics=['accuracy'])"
   ]
  },
  {
   "cell_type": "markdown",
   "id": "a572301d",
   "metadata": {},
   "source": [
    "## Loss function\n",
    "\n",
    "Loss function is used to evaluate model. It should distil model performance into a single number that optimizer tries to minimize.\n",
    "\n",
    "We can use multiple preset loss function or use custom one."
   ]
  },
  {
   "cell_type": "markdown",
   "id": "35bbc19b",
   "metadata": {},
   "source": [
    "#### Regression problem:\n",
    "* mean squared error\n",
    "* mean absolute error"
   ]
  },
  {
   "cell_type": "code",
   "execution_count": null,
   "id": "17e37434",
   "metadata": {},
   "outputs": [],
   "source": [
    "model.compile(loss='mean_squared_error')"
   ]
  },
  {
   "cell_type": "markdown",
   "id": "90b5f34d",
   "metadata": {},
   "source": [
    "#### Binary classification problem:\n",
    "* binary crossentropy"
   ]
  },
  {
   "cell_type": "code",
   "execution_count": null,
   "id": "40dfcd9d",
   "metadata": {},
   "outputs": [],
   "source": [
    "model.compile(loss='binary_crossentropy')"
   ]
  },
  {
   "cell_type": "markdown",
   "id": "511fce88",
   "metadata": {},
   "source": [
    "#### Multi-Class Classification Problem:\n",
    "* categorical_crossentropy for one hot encoded labels ([1,0,0], [0,1,0], [0,0,1])\n",
    "* sparse_categorical_crossentropy for integer labels ([1], [2], [3]) - typically for values where order matters"
   ]
  },
  {
   "cell_type": "code",
   "execution_count": null,
   "id": "b9aa5721",
   "metadata": {},
   "outputs": [],
   "source": [
    "model.compile(loss='sparse_categorical_crossentropy')"
   ]
  },
  {
   "cell_type": "markdown",
   "id": "e36586fc",
   "metadata": {},
   "source": [
    "## Optimizer\n",
    "\n",
    "Defining stochastic gradient descent algorithm. There are multiple algorithms (SGD, RMSprop, Adam, ...).\n",
    "\n",
    "Picking the algorithm is part of the model tuning, but usually it is a good to idea to start with Adam (it is fast and usually good performing)."
   ]
  },
  {
   "cell_type": "code",
   "execution_count": null,
   "id": "6279296d",
   "metadata": {},
   "outputs": [],
   "source": [
    "model.compile(optimizer='adam')"
   ]
  },
  {
   "cell_type": "markdown",
   "id": "9f722beb",
   "metadata": {},
   "source": [
    "## Fitting the model\n",
    "\n",
    "Actual training of the model. For training we need to specify:\n",
    "* **epochs** - number of passes over entire training dataset\n",
    "* **batch size** - number of samples before updating model weights, larger batches trains faster, but are typically also less accurate"
   ]
  },
  {
   "cell_type": "code",
   "execution_count": null,
   "id": "73af4fcf",
   "metadata": {},
   "outputs": [],
   "source": [
    "# imagine X are training data and y labels\n",
    "history = model.fit(X, y, epochs=1000, batch_size=32)"
   ]
  },
  {
   "cell_type": "markdown",
   "id": "95c5c8fd",
   "metadata": {},
   "source": [
    "## Prediction\n",
    "\n",
    "Prediction is run by predict function."
   ]
  },
  {
   "cell_type": "code",
   "execution_count": null,
   "id": "91150046",
   "metadata": {},
   "outputs": [],
   "source": [
    "model.predict(X)"
   ]
  },
  {
   "cell_type": "markdown",
   "id": "eb0334c3",
   "metadata": {},
   "source": [
    "# Evaluation\n",
    "\n",
    "Function evaluate evaluates model on whole provided dataset."
   ]
  },
  {
   "cell_type": "code",
   "execution_count": null,
   "id": "de64f61e",
   "metadata": {},
   "outputs": [],
   "source": [
    "score = model.evaluate(X_test, y_test) "
   ]
  },
  {
   "cell_type": "markdown",
   "id": "994c3123",
   "metadata": {},
   "source": [
    "# Save the model\n",
    "\n",
    "After training you can save the whole model, model structure or just trained weights."
   ]
  },
  {
   "cell_type": "code",
   "execution_count": null,
   "id": "79ad9790",
   "metadata": {},
   "outputs": [],
   "source": [
    "model.save('trained_model.hdf5')"
   ]
  }
 ],
 "metadata": {
  "kernelspec": {
   "display_name": "Python 3 (ipykernel)",
   "language": "python",
   "name": "python3"
  },
  "language_info": {
   "codemirror_mode": {
    "name": "ipython",
    "version": 3
   },
   "file_extension": ".py",
   "mimetype": "text/x-python",
   "name": "python",
   "nbconvert_exporter": "python",
   "pygments_lexer": "ipython3",
   "version": "3.8.12"
  }
 },
 "nbformat": 4,
 "nbformat_minor": 5
}
