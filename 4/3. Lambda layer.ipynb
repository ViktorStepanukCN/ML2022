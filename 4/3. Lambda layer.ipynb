{
 "cells": [
  {
   "cell_type": "markdown",
   "id": "8c2d9964",
   "metadata": {},
   "source": [
    "# Lambda layer\n",
    "\n",
    "The simplest type of custom layers. Wraps arbitrary expression as a Layer object.\n",
    "\n",
    "https://keras.io/api/layers/core_layers/lambda/"
   ]
  },
  {
   "cell_type": "code",
   "execution_count": null,
   "id": "7165630f",
   "metadata": {},
   "outputs": [],
   "source": [
    "import tensorflow as tf\n",
    "from tensorflow.keras import backend as K\n",
    "from tensorflow.keras.layers import Dense, Flatten, Input, Lambda\n",
    "from tensorflow.keras.models import Model\n",
    "\n",
    "import matplotlib.pyplot as plt\n",
    "\n",
    "import numpy as np"
   ]
  },
  {
   "cell_type": "markdown",
   "id": "2cd913f7",
   "metadata": {},
   "source": [
    "Load MNIST dataset with hand written digits."
   ]
  },
  {
   "cell_type": "code",
   "execution_count": null,
   "id": "e5715a09",
   "metadata": {},
   "outputs": [],
   "source": [
    "(x_train, y_train),(x_test, y_test) = tf.keras.datasets.mnist.load_data()"
   ]
  },
  {
   "cell_type": "markdown",
   "id": "a9563810",
   "metadata": {},
   "source": [
    "Plot the data sample."
   ]
  },
  {
   "cell_type": "code",
   "execution_count": null,
   "id": "e54117bf",
   "metadata": {},
   "outputs": [],
   "source": [
    "plt.figure(figsize=(10, 10))\n",
    "for i in range(25):\n",
    "    # setting subplot - each image is separate subplot in 5x5 matrix\n",
    "    plt.subplot(5, 5, i+1)\n",
    "    # do not show ticks on axes\n",
    "    plt.xticks([])\n",
    "    plt.yticks([])\n",
    "    plt.imshow(x_train[i], cmap=plt.cm.binary)\n",
    "plt.show()"
   ]
  },
  {
   "cell_type": "markdown",
   "id": "c29b6393",
   "metadata": {},
   "source": [
    "Normalize the values."
   ]
  },
  {
   "cell_type": "code",
   "execution_count": null,
   "id": "e0ae9e1f",
   "metadata": {},
   "outputs": [],
   "source": [
    "x_train = x_train / 255.0\n",
    "x_test = x_test / 255.0"
   ]
  },
  {
   "cell_type": "code",
   "execution_count": null,
   "id": "4e25e1c1",
   "metadata": {},
   "outputs": [],
   "source": [
    "plt.figure()\n",
    "plt.imshow(x_train[0], cmap=plt.cm.binary)\n",
    "plt.colorbar()\n",
    "plt.show()"
   ]
  },
  {
   "cell_type": "markdown",
   "id": "85159df6",
   "metadata": {},
   "source": [
    "## Define model architecture\n",
    "\n",
    "As an arbitrary example we will try tu emulate **ReLu** activation function. You will see more meaningful use case next class.\n",
    "\n",
    "\n",
    "First example just runs anonymous function on provided tensor."
   ]
  },
  {
   "cell_type": "code",
   "execution_count": null,
   "id": "a9e0c33c",
   "metadata": {},
   "outputs": [],
   "source": [
    "input_layer = Input(shape=(28, 28))\n",
    "x = Flatten()(input_layer)\n",
    "x = Dense(128)(x)\n",
    "# using TensorFlow function to operate on tensors in anonymous function\n",
    "x = Lambda(lambda x: tf.abs(x))(x)\n",
    "output_layer = Dense(10, activation='softmax')(x)\n",
    "model = Model(inputs = input_layer, outputs = output_layer)\n",
    "model.summary()"
   ]
  },
  {
   "cell_type": "markdown",
   "id": "043fa39c",
   "metadata": {},
   "source": [
    "Compile and run for 5 epochs."
   ]
  },
  {
   "cell_type": "code",
   "execution_count": null,
   "id": "4895d625",
   "metadata": {},
   "outputs": [],
   "source": [
    "model.compile(optimizer='adam',\n",
    "              loss='sparse_categorical_crossentropy',\n",
    "              metrics=['accuracy'])\n",
    "\n",
    "model.fit(x_train, y_train, epochs=5)"
   ]
  },
  {
   "cell_type": "markdown",
   "id": "57fc1ad6",
   "metadata": {},
   "source": [
    "Evaluate the model."
   ]
  },
  {
   "cell_type": "code",
   "execution_count": null,
   "id": "4732a2d4",
   "metadata": {},
   "outputs": [],
   "source": [
    "result = model.evaluate(x_test, y_test)\n",
    "# :.2f just formats the string to a two decimal places\n",
    "print(f'accuracy: {result[1]*100:.2f}%')"
   ]
  },
  {
   "cell_type": "markdown",
   "id": "f4d12507",
   "metadata": {},
   "source": [
    "## Lambda layer with a custom relu function\n",
    "\n",
    "We can use lambda layer even for more complicated expression, for example using it for a ReLu function with a custom threshold."
   ]
  },
  {
   "cell_type": "code",
   "execution_count": null,
   "id": "82fbc304",
   "metadata": {},
   "outputs": [],
   "source": [
    "def my_relu(x):\n",
    "    # using 0.1 as a cutoff threshold instead of 0.0\n",
    "    # beware TensorFlow is more strict regarding correct types than vanilla Python\n",
    "    return tf.math.maximum(-0.3, x)"
   ]
  },
  {
   "cell_type": "code",
   "execution_count": null,
   "id": "e419070c",
   "metadata": {},
   "outputs": [],
   "source": [
    "input_layer = Input(shape=(28, 28))\n",
    "x = Flatten()(input_layer)\n",
    "x = Dense(128)(x)\n",
    "# setting function in a Lambda layer\n",
    "x = Lambda(my_relu)(x)\n",
    "output_layer = Dense(10, activation='softmax')(x)\n",
    "model = Model(inputs = input_layer, outputs = output_layer)\n",
    "model.summary()"
   ]
  },
  {
   "cell_type": "markdown",
   "id": "e32fe260",
   "metadata": {},
   "source": [
    "Compile and run for 5 epochs."
   ]
  },
  {
   "cell_type": "code",
   "execution_count": null,
   "id": "d78df04c",
   "metadata": {},
   "outputs": [],
   "source": [
    "model.compile(optimizer='adam',\n",
    "              loss='sparse_categorical_crossentropy',\n",
    "              metrics=['accuracy'])\n",
    "\n",
    "model.fit(x_train, y_train, epochs=5)"
   ]
  },
  {
   "cell_type": "markdown",
   "id": "83049fb5",
   "metadata": {},
   "source": [
    "Evaluate the model."
   ]
  },
  {
   "cell_type": "code",
   "execution_count": null,
   "id": "3085707c",
   "metadata": {},
   "outputs": [],
   "source": [
    "result = model.evaluate(x_test, y_test)\n",
    "# :.2f just formats the string to a two decimal places\n",
    "print(f'accuracy: {result[1]*100:.2f}%')"
   ]
  },
  {
   "cell_type": "code",
   "execution_count": null,
   "id": "a6ace9f5",
   "metadata": {},
   "outputs": [],
   "source": []
  }
 ],
 "metadata": {
  "kernelspec": {
   "display_name": "Python 3 (ipykernel)",
   "language": "python",
   "name": "python3"
  },
  "language_info": {
   "codemirror_mode": {
    "name": "ipython",
    "version": 3
   },
   "file_extension": ".py",
   "mimetype": "text/x-python",
   "name": "python",
   "nbconvert_exporter": "python",
   "pygments_lexer": "ipython3",
   "version": "3.8.12"
  }
 },
 "nbformat": 4,
 "nbformat_minor": 5
}
