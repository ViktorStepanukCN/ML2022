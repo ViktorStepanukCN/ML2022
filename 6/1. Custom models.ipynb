{
 "cells": [
  {
   "cell_type": "markdown",
   "id": "2d020d84",
   "metadata": {},
   "source": [
    "# Custom models\n",
    "\n",
    "As I said, Keras provides great customizability. So you can create not just a custom loss functions, layers but also custom models."
   ]
  },
  {
   "cell_type": "code",
   "execution_count": null,
   "id": "910f747a",
   "metadata": {},
   "outputs": [],
   "source": [
    "import tensorflow as tf\n",
    "from tensorflow.keras import Model\n",
    "from tensorflow.keras.layers import Input, Dense, Flatten\n",
    "from tensorflow.keras.utils import plot_model"
   ]
  },
  {
   "cell_type": "code",
   "execution_count": null,
   "id": "8d7abc85",
   "metadata": {},
   "outputs": [],
   "source": [
    "input_layer = Input(shape=(1,))\n",
    "hidden_1 = Dense(30, activation=\"relu\")(input_layer)\n",
    "hidden_2 = Dense(30, activation=\"relu\")(hidden_1)\n",
    "output_layer = Dense(1)(hidden_2)\n",
    "model = Model(inputs=input_layer, outputs=output_layer)"
   ]
  },
  {
   "cell_type": "code",
   "execution_count": null,
   "id": "91b0c765",
   "metadata": {},
   "outputs": [],
   "source": [
    "plot_model(model, show_shapes=True)"
   ]
  },
  {
   "cell_type": "markdown",
   "id": "9cc93097",
   "metadata": {},
   "source": [
    "## Subclassing Model class"
   ]
  },
  {
   "cell_type": "markdown",
   "id": "1ae66013",
   "metadata": {},
   "source": [
    "It is possible to implement this model via subclassing Model class https://keras.io/api/models/model/ \n",
    "\n",
    "Inheriting from base Model class lets you use functions like `compile()`, `fit()`, `evaluate()`.\n",
    "\n",
    "We want to define at least:\n",
    "* `__init__()` - initialize and set layers\n",
    "* `call()` - set model architecture for forward pass\n",
    "\n",
    "We are usually defining layers in `__init__()` function and putting model together in a `call()` function."
   ]
  },
  {
   "cell_type": "code",
   "execution_count": null,
   "id": "de58bb46",
   "metadata": {},
   "outputs": [],
   "source": [
    "class CustomModel(Model):\n",
    "    def __init__(self, units=30, activation='relu', **kwargs):\n",
    "        '''initializes the instance attributes'''\n",
    "        super().__init__(**kwargs)\n",
    "        self.hidden1 = Dense(units, activation=activation)\n",
    "        self.hidden2 = Dense(units, activation=activation)\n",
    "        self.main_output = Dense(10, activation='softmax')\n",
    "\n",
    "    def call(self, inputs):\n",
    "        '''defines the network architecture'''\n",
    "        cur_input = inputs\n",
    "        flatten = Flatten()(cur_input)\n",
    "        hidden1 = self.hidden1(flatten)\n",
    "        hidden2 = self.hidden2(hidden1)\n",
    "        # it is possible the reuse the same layers again\n",
    "        hidden3 = self.hidden2(hidden2)\n",
    "        cur_output = self.main_output(hidden2)\n",
    "        \n",
    "        return cur_output"
   ]
  },
  {
   "cell_type": "markdown",
   "id": "c8c0e6f9",
   "metadata": {},
   "source": [
    "### Declarative API like Functional or Sequential\n",
    "**Pros**\n",
    "* model can be easily saved, cloned, shared\n",
    "* easy display of structure for display and analysis\n",
    "* easy to analyse, so framework can be caught before data goes through the model\n",
    "* model is easier to debug because of the static structure\n",
    "\n",
    "**Cons**\n",
    "* its just static 😀\n",
    "* limited code reuse capability\n",
    "\n",
    "### Imperative API by subclassing the Model\n",
    "* easier implementation of loops, conditional branching and other dynamic behavior (you can do anything you want in the call function)\n",
    "* better code structuring by encapsulating complex blocks of code, reusing of complex code blocks\n",
    "\n",
    "We do **not** need to create the inputs when subclassing the model. It is just infered during runtime.\n",
    "\n",
    "Since model's architecture is hidden in within the call method, Keras cannot inspect it.\n",
    "\n",
    "Keras models can be used just like regular layers in the other model. "
   ]
  },
  {
   "cell_type": "markdown",
   "id": "56c14d47",
   "metadata": {},
   "source": [
    "## MNIST demo"
   ]
  },
  {
   "cell_type": "code",
   "execution_count": null,
   "id": "2f81cfc5",
   "metadata": {},
   "outputs": [],
   "source": [
    "(x_train, y_train),(x_test, y_test) = tf.keras.datasets.mnist.load_data()"
   ]
  },
  {
   "cell_type": "code",
   "execution_count": null,
   "id": "114ff885",
   "metadata": {},
   "outputs": [],
   "source": [
    "x_train = x_train / 255.0\n",
    "x_test = x_test / 255.0"
   ]
  },
  {
   "cell_type": "code",
   "execution_count": null,
   "id": "d8d6ab59",
   "metadata": {},
   "outputs": [],
   "source": [
    "model = CustomModel(units = 64)\n",
    "model.compile(optimizer='adam',\n",
    "              loss='sparse_categorical_crossentropy',\n",
    "              metrics=['accuracy'])"
   ]
  },
  {
   "cell_type": "code",
   "execution_count": null,
   "id": "f059aa15",
   "metadata": {},
   "outputs": [],
   "source": [
    "history = model.fit(x_train, y_train, validation_split = 0.2, epochs=10)"
   ]
  },
  {
   "cell_type": "code",
   "execution_count": null,
   "id": "6768ea29",
   "metadata": {},
   "outputs": [],
   "source": [
    "result = model.evaluate(x_test, y_test)\n",
    "print(f'accuracy: {result[1]*100:.2f}%')"
   ]
  },
  {
   "cell_type": "code",
   "execution_count": null,
   "id": "7ef903a0",
   "metadata": {},
   "outputs": [],
   "source": [
    "plot_model(model, show_shapes=True)"
   ]
  }
 ],
 "metadata": {
  "kernelspec": {
   "display_name": "Python 3 (ipykernel)",
   "language": "python",
   "name": "python3"
  },
  "language_info": {
   "codemirror_mode": {
    "name": "ipython",
    "version": 3
   },
   "file_extension": ".py",
   "mimetype": "text/x-python",
   "name": "python",
   "nbconvert_exporter": "python",
   "pygments_lexer": "ipython3",
   "version": "3.8.12"
  }
 },
 "nbformat": 4,
 "nbformat_minor": 5
}
