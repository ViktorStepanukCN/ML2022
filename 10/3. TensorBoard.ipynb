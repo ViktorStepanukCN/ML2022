{
 "cells": [
  {
   "cell_type": "markdown",
   "id": "f49a2e04",
   "metadata": {},
   "source": [
    "# TensorBoard\n",
    "\n",
    "Interactive visualisation framework for tracking perfomance of different models.\n",
    "\n",
    "It goes preinstalled with TensorFlow, so you don't need to download anything.\n",
    "\n",
    "```\n",
    "tensorboard --logdir logs\n",
    "```\n",
    "\n",
    "TensorBoard is highly customizable, you can put any information you like using:\n",
    "```\n",
    "tf.summary\n",
    "```\n",
    "\n",
    "But even with preset configuration it provides a variety of usefull reports."
   ]
  },
  {
   "cell_type": "code",
   "execution_count": null,
   "id": "5690b1a6",
   "metadata": {},
   "outputs": [],
   "source": [
    "import tensorflow as tf\n",
    "from tensorflow import keras\n",
    "from tensorflow.keras.layers import Dense, Flatten, Input, Conv2D, MaxPooling2D\n",
    "from tensorflow.keras.models import Model\n",
    "import numpy as np\n",
    "import pandas as pd\n",
    "import matplotlib.pyplot as plt\n",
    "from tensorflow.keras.datasets import fashion_mnist\n",
    "from tensorflow.keras.callbacks import TensorBoard\n",
    "import time"
   ]
  },
  {
   "cell_type": "code",
   "execution_count": null,
   "id": "0c4a22ac",
   "metadata": {},
   "outputs": [],
   "source": [
    "(train_images, train_labels), (test_images, test_labels) = fashion_mnist.load_data()"
   ]
  },
  {
   "cell_type": "markdown",
   "id": "f7d26aae",
   "metadata": {},
   "source": [
    "Take only 10 000 train Fashion MNIST images and 1 000 test to faster training."
   ]
  },
  {
   "cell_type": "code",
   "execution_count": null,
   "id": "502310f0",
   "metadata": {},
   "outputs": [],
   "source": [
    "X_train, y_train = train_images[:10000] / 255.0, train_labels[:10000]\n",
    "X_test, y_test = test_images[:1000] / 255.0, test_labels[:1000]"
   ]
  },
  {
   "cell_type": "code",
   "execution_count": null,
   "id": "7aa11b7e",
   "metadata": {},
   "outputs": [],
   "source": [
    "input_layer = Input(shape=(28, 28))\n",
    "x = Flatten()(input_layer)\n",
    "x = Dense(64, activation='relu', name='hidden_fc')(x)\n",
    "output_layer = Dense(10, activation='softmax', name='outpout_fc')(x)\n",
    "model = Model(inputs = input_layer, outputs = output_layer)"
   ]
  },
  {
   "cell_type": "code",
   "execution_count": null,
   "id": "a02728a5",
   "metadata": {},
   "outputs": [],
   "source": [
    "# input_layer = Input(shape=(28, 28, 1))\n",
    "# x = Conv2D(16, (3, 3), activation='relu')(input_layer)\n",
    "# x = MaxPooling2D((2, 2))(x)\n",
    "# x = Conv2D(16, (3, 3), activation='relu')(x)\n",
    "# x = Flatten()(x)\n",
    "# output_layer = Dense(10, activation='softmax')(x)\n",
    "# model = Model(inputs = input_layer, outputs = output_layer)"
   ]
  },
  {
   "cell_type": "code",
   "execution_count": null,
   "id": "2b7e57c9",
   "metadata": {},
   "outputs": [],
   "source": [
    "model.compile(optimizer='adam', loss='sparse_categorical_crossentropy', metrics=['accuracy'])"
   ]
  },
  {
   "cell_type": "markdown",
   "id": "ad906459",
   "metadata": {},
   "source": [
    "## Setting up TensorBoard callback\n",
    "\n",
    "It is a good practise to make TensorBoard log directories with unique names, otherwise it will append more logs to existing one and logs will be confusing.\n",
    "\n",
    "You should also reflect hyperparameter values you are tuning in the name of log directory, so it is clear to you what was happening when you will compare different models later.\n",
    "\n",
    "https://keras.io/api/callbacks/tensorboard/"
   ]
  },
  {
   "cell_type": "code",
   "execution_count": null,
   "id": "9cc5bd94",
   "metadata": {},
   "outputs": [],
   "source": [
    "tensorboard = TensorBoard(\n",
    "    # set logging directory for current model\n",
    "    log_dir=f\"logs/FC_64_{time.strftime('run_%Y_%m_%d-%H_%M_%S')}\",\n",
    "    # I also want to see weight histogram\n",
    "    histogram_freq = 1, \n",
    "    # and also embeddings\n",
    "    embeddings_freq=1)"
   ]
  },
  {
   "cell_type": "code",
   "execution_count": null,
   "id": "09f02e0d",
   "metadata": {
    "scrolled": false
   },
   "outputs": [],
   "source": [
    "history = model.fit(\n",
    "    X_train, \n",
    "    y_train, \n",
    "    epochs=20,\n",
    "    batch_size=64, \n",
    "    verbose=1,\n",
    "    validation_data=(X_test, y_test),\n",
    "    callbacks=[tensorboard]\n",
    ")"
   ]
  },
  {
   "cell_type": "code",
   "execution_count": null,
   "id": "5651ddff",
   "metadata": {},
   "outputs": [],
   "source": []
  }
 ],
 "metadata": {
  "kernelspec": {
   "display_name": "Python 3 (ipykernel)",
   "language": "python",
   "name": "python3"
  },
  "language_info": {
   "codemirror_mode": {
    "name": "ipython",
    "version": 3
   },
   "file_extension": ".py",
   "mimetype": "text/x-python",
   "name": "python",
   "nbconvert_exporter": "python",
   "pygments_lexer": "ipython3",
   "version": "3.7.15"
  }
 },
 "nbformat": 4,
 "nbformat_minor": 5
}
