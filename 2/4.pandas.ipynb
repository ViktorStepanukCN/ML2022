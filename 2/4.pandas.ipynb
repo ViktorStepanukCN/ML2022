{
 "cells": [
  {
   "cell_type": "markdown",
   "id": "1d29fb20",
   "metadata": {},
   "source": [
    "# Pandas\n",
    "\n",
    "Library for data analysis and manipulation."
   ]
  },
  {
   "cell_type": "code",
   "execution_count": null,
   "id": "389e22bc",
   "metadata": {},
   "outputs": [],
   "source": [
    "import pandas as pd"
   ]
  },
  {
   "cell_type": "markdown",
   "id": "1984b237",
   "metadata": {},
   "source": [
    "### DataFrame\n",
    "\n",
    "Basic pandas building block. Similar to table in SQL or Excel. Columns are called **Series**."
   ]
  },
  {
   "cell_type": "code",
   "execution_count": null,
   "id": "9030b0b0",
   "metadata": {},
   "outputs": [],
   "source": [
    "df = pd.read_csv('house_prices.csv')"
   ]
  },
  {
   "cell_type": "code",
   "execution_count": null,
   "id": "a53e058e",
   "metadata": {
    "scrolled": false
   },
   "outputs": [],
   "source": [
    "df"
   ]
  },
  {
   "cell_type": "markdown",
   "id": "74a9fe3b",
   "metadata": {},
   "source": [
    "#### Data analysis\n",
    "\n",
    "Pandas comes with huge palette of function for data analysis and manipulation."
   ]
  },
  {
   "cell_type": "markdown",
   "id": "0637598b",
   "metadata": {},
   "source": [
    "Descriptive statistic"
   ]
  },
  {
   "cell_type": "code",
   "execution_count": null,
   "id": "dc3d5b53",
   "metadata": {},
   "outputs": [],
   "source": [
    "df['SalePrice'].describe()"
   ]
  },
  {
   "cell_type": "markdown",
   "id": "aa509eab",
   "metadata": {},
   "source": [
    "Unique values in column."
   ]
  },
  {
   "cell_type": "code",
   "execution_count": null,
   "id": "e3ffa469",
   "metadata": {},
   "outputs": [],
   "source": [
    "df['Fence'].unique()"
   ]
  },
  {
   "cell_type": "markdown",
   "id": "accb0043",
   "metadata": {},
   "source": [
    "#### Data filtering"
   ]
  },
  {
   "cell_type": "markdown",
   "id": "b4ecb331",
   "metadata": {},
   "source": [
    "Filter rows with sales price greater than 180921."
   ]
  },
  {
   "cell_type": "code",
   "execution_count": null,
   "id": "cc778760",
   "metadata": {},
   "outputs": [],
   "source": [
    "df[df['SalePrice'] <= df['SalePrice'].mean()]"
   ]
  },
  {
   "cell_type": "markdown",
   "id": "3a7bc989",
   "metadata": {},
   "source": [
    "#### Data manipulation"
   ]
  },
  {
   "cell_type": "markdown",
   "id": "db04fd2f",
   "metadata": {},
   "source": [
    "Create column with flag if the price is smaller than average."
   ]
  },
  {
   "cell_type": "code",
   "execution_count": null,
   "id": "776ed60e",
   "metadata": {},
   "outputs": [],
   "source": [
    "df['SalesSmallerThanAverage'] = df['SalePrice'] < df['SalePrice'].mean()"
   ]
  },
  {
   "cell_type": "code",
   "execution_count": null,
   "id": "a79672f8",
   "metadata": {},
   "outputs": [],
   "source": [
    "df"
   ]
  },
  {
   "cell_type": "markdown",
   "id": "152e5d4b",
   "metadata": {},
   "source": [
    "Fill \"Not filled in\" instead of NaN to the DataFrame."
   ]
  },
  {
   "cell_type": "code",
   "execution_count": null,
   "id": "3d02f21e",
   "metadata": {},
   "outputs": [],
   "source": [
    "df['Fence'].unique()"
   ]
  },
  {
   "cell_type": "code",
   "execution_count": null,
   "id": "e76f1b31",
   "metadata": {},
   "outputs": [],
   "source": [
    "df['Fence'] = df['Fence'].fillna('Not filled in')"
   ]
  },
  {
   "cell_type": "code",
   "execution_count": null,
   "id": "a91b1d03",
   "metadata": {},
   "outputs": [],
   "source": [
    "df['Fence'].unique()"
   ]
  },
  {
   "cell_type": "code",
   "execution_count": null,
   "id": "bf074072",
   "metadata": {},
   "outputs": [],
   "source": []
  }
 ],
 "metadata": {
  "kernelspec": {
   "display_name": "Python 3 (ipykernel)",
   "language": "python",
   "name": "python3"
  },
  "language_info": {
   "codemirror_mode": {
    "name": "ipython",
    "version": 3
   },
   "file_extension": ".py",
   "mimetype": "text/x-python",
   "name": "python",
   "nbconvert_exporter": "python",
   "pygments_lexer": "ipython3",
   "version": "3.8.12"
  }
 },
 "nbformat": 4,
 "nbformat_minor": 5
}
