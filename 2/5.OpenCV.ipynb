{
 "cells": [
  {
   "cell_type": "markdown",
   "id": "5990ac80",
   "metadata": {},
   "source": [
    "# OpenCV\n",
    "\n",
    "Library aimed on computer vision."
   ]
  },
  {
   "cell_type": "code",
   "execution_count": null,
   "id": "bd01c992",
   "metadata": {},
   "outputs": [],
   "source": [
    "import cv2\n",
    "from matplotlib import pyplot as plt"
   ]
  },
  {
   "cell_type": "markdown",
   "id": "25cd8265",
   "metadata": {},
   "source": [
    "#### Beware of BGR format!\n",
    "\n",
    "This is the question I asked Dr. Gary Bradski, founder of OpenCV, when I met him at a conference a few months back, although I left out the part about everybody and their aunts using RGB. He answered my question with another question.\n",
    "\n",
    "“Why is the the US standard railroad gauge 4 feet, 8.5 inches?”\n",
    "\n",
    "The answer to that question of course is “Because of Roman horse’s ass!”\n",
    "\n",
    "https://learnopencv.com/why-does-opencv-use-bgr-color-format/"
   ]
  },
  {
   "cell_type": "code",
   "execution_count": null,
   "id": "67770ff9",
   "metadata": {},
   "outputs": [],
   "source": [
    "img = cv2.imread('images/Abyssinian_1.jpg')\n",
    "print(f'Loaded image is of a type: {type(img)} with {img.shape} dimensions.')\n",
    "plt.imshow(cv2.cvtColor(img, cv2.COLOR_BGR2RGB))"
   ]
  },
  {
   "cell_type": "markdown",
   "id": "f055bd08",
   "metadata": {},
   "source": [
    "### Draw boundig box\n",
    "\n",
    "Bounding box could be defined in different ways.\n",
    "\n",
    "This concrete format is defined by coordinates of lower left and upper right corner."
   ]
  },
  {
   "cell_type": "code",
   "execution_count": null,
   "id": "5517fc5a",
   "metadata": {},
   "outputs": [],
   "source": [
    "X_0 = 333\n",
    "Y_0 = 72\n",
    "X_1 = 425\n",
    "Y_1 = 158\n",
    "\n",
    "BOTTOM_LEFT = (X_0, Y_0)\n",
    "UPPER_RIGHT = (X_1, Y_1)"
   ]
  },
  {
   "cell_type": "markdown",
   "id": "fbb58597",
   "metadata": {},
   "source": [
    "Drawing rectangle to picture."
   ]
  },
  {
   "cell_type": "code",
   "execution_count": null,
   "id": "6a3ad961",
   "metadata": {},
   "outputs": [],
   "source": [
    "# red, remember OpenCV is working with BGR colors\n",
    "BOUNDING_BOX_COLOR = (0, 0, 255)\n",
    "BOUNDING_BOX_THICKNESS = 2\n",
    "\n",
    "# I am passing copy because OpenCV alters original image which is something I don't want to\n",
    "rectangle = cv2.rectangle(img.copy(), BOTTOM_LEFT, UPPER_RIGHT, (0, 0, 255), BOUNDING_BOX_THICKNESS)\n",
    "plt.imshow(cv2.cvtColor(rectangle, cv2.COLOR_BGR2RGB))"
   ]
  },
  {
   "cell_type": "markdown",
   "id": "93d61543",
   "metadata": {},
   "source": [
    "Cropping image that could serve as an input to machine learning model training."
   ]
  },
  {
   "cell_type": "code",
   "execution_count": null,
   "id": "b71714bd",
   "metadata": {},
   "outputs": [],
   "source": [
    "# OpenCV uses for indexing Y,X\n",
    "crop_img = img[Y_0:Y_1, X_0:X_1]\n",
    "plt.imshow(cv2.cvtColor(crop_img, cv2.COLOR_BGR2RGB))"
   ]
  },
  {
   "cell_type": "code",
   "execution_count": null,
   "id": "b64f489e",
   "metadata": {},
   "outputs": [],
   "source": []
  }
 ],
 "metadata": {
  "kernelspec": {
   "display_name": "Python 3 (ipykernel)",
   "language": "python",
   "name": "python3"
  },
  "language_info": {
   "codemirror_mode": {
    "name": "ipython",
    "version": 3
   },
   "file_extension": ".py",
   "mimetype": "text/x-python",
   "name": "python",
   "nbconvert_exporter": "python",
   "pygments_lexer": "ipython3",
   "version": "3.8.12"
  }
 },
 "nbformat": 4,
 "nbformat_minor": 5
}
