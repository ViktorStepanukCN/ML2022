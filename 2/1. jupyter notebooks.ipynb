{
 "cells": [
  {
   "cell_type": "markdown",
   "id": "159dd679",
   "metadata": {},
   "source": [
    "# Jupyter notebooks\n",
    "\n",
    "* Easy to use from Anaconda\n",
    "* Run from Anaconda or command line using \"jupyter notebook\"\n",
    "\n",
    "### Introduction\n",
    "\n",
    "Interactive tool for developing and presenting datascience projects embedded in webpage.\n",
    "It is a webapp running local Python server making it platform-independent.\n",
    "\n",
    "It is a single document where you can:\n",
    "* write text in **Markdown**\n",
    "* $RMSE = \\sqrt{\\frac{\\sum_{t=1}^{T} t_i (\\hat y_t -  y_t)^{2}} {T}}$\n",
    "\n",
    "You can past images\n",
    "\n",
    "<img src=\"images/kocour.png\"/>"
   ]
  },
  {
   "cell_type": "markdown",
   "id": "040b0451",
   "metadata": {},
   "source": [
    "But most importantly you can run the code!"
   ]
  },
  {
   "cell_type": "code",
   "execution_count": null,
   "id": "f7df5b48",
   "metadata": {},
   "outputs": [],
   "source": [
    "test = \"Hello World\"\n",
    "print (\"test: \" + test)"
   ]
  },
  {
   "cell_type": "markdown",
   "id": "a828ed56",
   "metadata": {},
   "source": [
    "Run terminal commands"
   ]
  },
  {
   "cell_type": "code",
   "execution_count": null,
   "id": "05133b76",
   "metadata": {},
   "outputs": [],
   "source": [
    "!dir"
   ]
  },
  {
   "cell_type": "markdown",
   "id": "435d5b0c",
   "metadata": {},
   "source": [
    "Show plots"
   ]
  },
  {
   "cell_type": "code",
   "execution_count": null,
   "id": "aa20c804",
   "metadata": {},
   "outputs": [],
   "source": [
    "import numpy as np\n",
    "import matplotlib.pyplot as plot\n",
    "time = np.arange(0, 10, 0.1)\n",
    "amplitude = np.sin(time)\n",
    "plot.plot(time, amplitude)\n",
    "plot.grid(True)\n",
    "plot.show()"
   ]
  },
  {
   "cell_type": "markdown",
   "id": "38576138",
   "metadata": {},
   "source": [
    "Cell shows [*] during execution"
   ]
  },
  {
   "cell_type": "code",
   "execution_count": null,
   "id": "75f0e79a",
   "metadata": {},
   "outputs": [],
   "source": [
    "import time\n",
    "time.sleep(5)"
   ]
  },
  {
   "cell_type": "markdown",
   "id": "d7c5e9c4",
   "metadata": {},
   "source": [
    "Cell outputs automatically value of last line in the cell (for example lone variable or function call)."
   ]
  },
  {
   "cell_type": "code",
   "execution_count": null,
   "id": "4dc277d9",
   "metadata": {},
   "outputs": [],
   "source": [
    "x = ['a', 'b', 'c']\n",
    "x"
   ]
  },
  {
   "cell_type": "code",
   "execution_count": null,
   "id": "cfa99eb9",
   "metadata": {},
   "outputs": [],
   "source": [
    "def add(a, b):\n",
    "    return a+b\n",
    "\n",
    "add(1, 5)"
   ]
  },
  {
   "cell_type": "markdown",
   "id": "5118ae55",
   "metadata": {},
   "source": [
    "### Markdown\n",
    "\n",
    "# This is a level 1 heading\n",
    "\n",
    "## This is a level 2 heading\n",
    "\n",
    "This is some plain text that forms a paragraph. Add emphasis via **bold** and __bold__, or *italic* and _italic_. \n",
    "\n",
    "Paragraphs must be separated by an empty line. \n",
    "\n",
    "* Sometimes we want to include lists. \n",
    "* Which can be bulleted using asterisks. \n",
    "\n",
    "1. Lists can also be numbered. \n",
    "2. If we want an ordered list.\n",
    "\n",
    "[It is possible to include hyperlinks](https://www.example.com)\n",
    "\n",
    "Inline code uses single backticks: foo(), and code blocks use triple backticks: \n",
    "```\n",
    "bar()\n",
    "``` \n",
    "Or can be indented by 4 spaces: \n",
    "\n",
    "    foo()"
   ]
  },
  {
   "cell_type": "markdown",
   "id": "5a459bca",
   "metadata": {},
   "source": [
    "### Kernel\n",
    "\n",
    "Runs the code and stores state - so developers do not need to run everything from beginning for each execution!"
   ]
  },
  {
   "cell_type": "code",
   "execution_count": null,
   "id": "4a45fafd",
   "metadata": {},
   "outputs": [],
   "source": [
    "import random\n",
    "x = random.randint(3, 9)\n",
    "print(x)"
   ]
  },
  {
   "cell_type": "code",
   "execution_count": null,
   "id": "aa70ff3d",
   "metadata": {},
   "outputs": [],
   "source": [
    "# this cell may use imported random package and has access to x variable\n",
    "print(f'Adding random number to a value: {x} defined in previous cell: {x + random.randint(1, 10)}')"
   ]
  },
  {
   "cell_type": "code",
   "execution_count": null,
   "id": "0b145240",
   "metadata": {},
   "outputs": [],
   "source": []
  }
 ],
 "metadata": {
  "kernelspec": {
   "display_name": "Python 3 (ipykernel)",
   "language": "python",
   "name": "python3"
  },
  "language_info": {
   "codemirror_mode": {
    "name": "ipython",
    "version": 3
   },
   "file_extension": ".py",
   "mimetype": "text/x-python",
   "name": "python",
   "nbconvert_exporter": "python",
   "pygments_lexer": "ipython3",
   "version": "3.8.12"
  }
 },
 "nbformat": 4,
 "nbformat_minor": 5
}
