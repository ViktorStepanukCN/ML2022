{
 "cells": [
  {
   "cell_type": "markdown",
   "id": "9f939da5",
   "metadata": {},
   "source": [
    "# Siamese networks using triplet loss\n",
    "\n",
    "Demonstration of implementing Siamese networks with triplet loss on fashion mnist.\n",
    "\n",
    "The network has an unsual architecture - we don't need to know ground truth because of how the data are structured."
   ]
  },
  {
   "cell_type": "code",
   "execution_count": null,
   "id": "38801beb",
   "metadata": {},
   "outputs": [],
   "source": [
    "from tensorflow.keras.datasets import fashion_mnist\n",
    "import numpy as np\n",
    "import random\n",
    "import matplotlib.pyplot as plt\n",
    "import tensorflow as tf\n",
    "from tensorflow.keras.layers import Dense, Flatten, Input\n",
    "from tensorflow.keras.models import Model\n",
    "import tensorflow.keras.backend as K\n",
    "import pandas as pd"
   ]
  },
  {
   "cell_type": "markdown",
   "id": "f946464c",
   "metadata": {},
   "source": [
    "## Loading the data\n",
    "Load the data."
   ]
  },
  {
   "cell_type": "code",
   "execution_count": null,
   "id": "f992d29c",
   "metadata": {},
   "outputs": [],
   "source": [
    "(train_images, train_labels), (test_images, test_labels) = fashion_mnist.load_data()"
   ]
  },
  {
   "cell_type": "markdown",
   "id": "eb6d03f8",
   "metadata": {},
   "source": [
    "Normalize colors to be between (0-1)."
   ]
  },
  {
   "cell_type": "code",
   "execution_count": null,
   "id": "56e9e39c",
   "metadata": {},
   "outputs": [],
   "source": [
    "train_images = train_images/255.0\n",
    "test_images = test_images/255.0"
   ]
  },
  {
   "cell_type": "markdown",
   "id": "f5345d21",
   "metadata": {},
   "source": [
    "Set predictions class names."
   ]
  },
  {
   "cell_type": "code",
   "execution_count": null,
   "id": "a6ac0ea7",
   "metadata": {},
   "outputs": [],
   "source": [
    "class_names = ['T-shirt/top', 'Trouser', 'Pullover', 'Dress', 'Coat',\n",
    "               'Sandal', 'Shirt', 'Sneaker', 'Bag', 'Ankle boot']"
   ]
  },
  {
   "cell_type": "markdown",
   "id": "63b60abb",
   "metadata": {},
   "source": [
    "## Sort data by classes\n",
    "\n",
    "Sort data by classes for easier triplets generation."
   ]
  },
  {
   "cell_type": "code",
   "execution_count": null,
   "id": "9ff84b04",
   "metadata": {},
   "outputs": [],
   "source": [
    "def sort_labels_by_classes(labels):\n",
    "    result = []\n",
    "    for i in range(len(class_names)):\n",
    "        #  np.where returns the indices of elements in an input array where the given condition is satisfied\n",
    "        result.append(np.where(labels == i)[0])\n",
    "    return result"
   ]
  },
  {
   "cell_type": "code",
   "execution_count": null,
   "id": "2d229433",
   "metadata": {},
   "outputs": [],
   "source": [
    "train_classes = sort_labels_by_classes(train_labels)\n",
    "test_classes = sort_labels_by_classes(test_labels)\n",
    "print('Train classes:')\n",
    "display(train_classes)"
   ]
  },
  {
   "cell_type": "markdown",
   "id": "5eee8ac8",
   "metadata": {},
   "source": [
    "## Create triplets"
   ]
  },
  {
   "cell_type": "code",
   "execution_count": null,
   "id": "5f9b4f15",
   "metadata": {},
   "outputs": [],
   "source": [
    "def create_triplets(data, labels):\n",
    "    triplets_data = []\n",
    "    class_count = len(class_names)\n",
    "    # go per each of cloth class\n",
    "    for i in range(len(labels)):\n",
    "        # class for processing\n",
    "        class_label_length = len(labels[i])\n",
    "        # go for each of item in current cloth class\n",
    "        for j in range(class_label_length - 1):\n",
    "            # get the positive pair - n and n+1 item from current label\n",
    "            idx1, idx2 = labels[i][j], labels[i][j + 1]\n",
    "            # random generate increment from 1-9 to add to current class index\n",
    "            inc = random.randrange(1, class_count)\n",
    "            # add increment to class index and apply modulo by class count to get random negative class label index\n",
    "            negative_label_index = (i + inc) % class_count\n",
    "            # take random item from other label items to create a negative pair\n",
    "            negative_sample = random.choice(labels[negative_label_index])\n",
    "            # save negative pair and set label to 0\n",
    "            triplets_data.append([data[idx1], data[idx2], data[negative_sample]])\n",
    "    # numpy arrays are easier to work with, so type list into it\n",
    "    return np.array(triplets_data)"
   ]
  },
  {
   "cell_type": "markdown",
   "id": "070d3148",
   "metadata": {},
   "source": [
    "Create triplets for training."
   ]
  },
  {
   "cell_type": "code",
   "execution_count": null,
   "id": "bff12664",
   "metadata": {},
   "outputs": [],
   "source": [
    "X_train = create_triplets(train_images, train_classes)"
   ]
  },
  {
   "cell_type": "markdown",
   "id": "cabcadad",
   "metadata": {},
   "source": [
    "Create triplets for test."
   ]
  },
  {
   "cell_type": "code",
   "execution_count": null,
   "id": "7b420da6",
   "metadata": {},
   "outputs": [],
   "source": [
    "X_test = create_triplets(test_images, test_classes)"
   ]
  },
  {
   "cell_type": "markdown",
   "id": "943355bd",
   "metadata": {},
   "source": [
    "Plot triplets."
   ]
  },
  {
   "cell_type": "code",
   "execution_count": null,
   "id": "3b1b6239",
   "metadata": {},
   "outputs": [],
   "source": [
    "def show_image(image):\n",
    "    plt.figure()\n",
    "    plt.imshow(image, cmap=plt.cm.binary)\n",
    "    plt.colorbar()\n",
    "    plt.grid(False)\n",
    "    plt.show()"
   ]
  },
  {
   "cell_type": "code",
   "execution_count": null,
   "id": "52cec178",
   "metadata": {
    "scrolled": false
   },
   "outputs": [],
   "source": [
    "triplet = 6001\n",
    "# show images at this index\n",
    "show_image(X_train[triplet][0])\n",
    "show_image(X_train[triplet][1])\n",
    "show_image(X_train[triplet][2])"
   ]
  },
  {
   "cell_type": "markdown",
   "id": "a050d490",
   "metadata": {},
   "source": [
    "## Setting up network architecture\n",
    "\n",
    "### Backbone network for Siamese network\n",
    "\n",
    "Create backbone network that will be shared by all three branches."
   ]
  },
  {
   "cell_type": "code",
   "execution_count": null,
   "id": "6b0ff9e0",
   "metadata": {},
   "outputs": [],
   "source": [
    "def initialize_base_network():\n",
    "    input = Input(shape=(28,28,))\n",
    "    x = Flatten()(input)\n",
    "    x = Dense(128, activation='relu')(x)\n",
    "    x = Dense(128, activation='relu')(x)\n",
    "    return Model(inputs=input, outputs=x)"
   ]
  },
  {
   "cell_type": "code",
   "execution_count": null,
   "id": "8710dccd",
   "metadata": {},
   "outputs": [],
   "source": [
    "embedding = initialize_base_network()\n",
    "tf.keras.utils.plot_model(embedding, show_shapes=True)"
   ]
  },
  {
   "cell_type": "markdown",
   "id": "76c5d8d6",
   "metadata": {},
   "source": [
    "### Setting the Siamese network in custom layer\n",
    "\n",
    "Setting the Siamese network in custom layer to use different approach.\n",
    "\n",
    "It is also easier to work with 🙂"
   ]
  },
  {
   "cell_type": "code",
   "execution_count": null,
   "id": "0c81e9cc",
   "metadata": {},
   "outputs": [],
   "source": [
    "class SiameseNet(tf.keras.layers.Layer):\n",
    "    # set the backbone model in constructor\n",
    "    def __init__(self, model):\n",
    "        super().__init__()\n",
    "        self.model = model\n",
    "\n",
    "    def call(self, feat):\n",
    "        # get feature vectors from anchor\n",
    "        feats = self.model(feat[0])\n",
    "        # from positive image\n",
    "        pfeats = self.model(feat[1])\n",
    "        # and from negative image\n",
    "        nfeats = self.model(feat[2])\n",
    "        # concatenate vectors to a matrix\n",
    "        result = tf.stack([feats, pfeats, nfeats])\n",
    "        return result"
   ]
  },
  {
   "cell_type": "markdown",
   "id": "f16a8c91",
   "metadata": {},
   "source": [
    "Define triplet loss in separate layer."
   ]
  },
  {
   "cell_type": "code",
   "execution_count": null,
   "id": "6b83ca92",
   "metadata": {},
   "outputs": [],
   "source": [
    "class TripletLoss(tf.keras.layers.Layer):\n",
    "    # margin is settable hyperparameter in constructor\n",
    "    def __init__(self, margin):\n",
    "        self.margin = margin\n",
    "        super().__init__()\n",
    "        \n",
    "    # function calculating distance between features\n",
    "    def distance(self, x, y):\n",
    "        sum_square = tf.reduce_sum(tf.square(x - y), axis=1, keepdims=True)\n",
    "        return tf.sqrt(tf.maximum(sum_square, K.epsilon()))\n",
    "    \n",
    "\n",
    "    def call(self, features):\n",
    "        # get anchor-positive distance\n",
    "        pos = self.distance(features[0], features[1])\n",
    "        # anchor-negative distance\n",
    "        neg = self.distance(features[0], features[2])\n",
    "        # difference between anchor positive and anchor negative distances\n",
    "        loss = pos - neg\n",
    "        # get overall loss\n",
    "        return tf.maximum(loss + self.margin, 0.0)"
   ]
  },
  {
   "cell_type": "markdown",
   "id": "1fbdebd3",
   "metadata": {},
   "source": [
    "We have triplet loss defined in output layer, so for the loss function we just sum network outputs - true loss."
   ]
  },
  {
   "cell_type": "code",
   "execution_count": null,
   "id": "fdf41ce3",
   "metadata": {},
   "outputs": [],
   "source": [
    "def identity_loss(y_true, y_pred):\n",
    "    return tf.reduce_mean(y_pred)"
   ]
  },
  {
   "cell_type": "markdown",
   "id": "ebffc9ad",
   "metadata": {},
   "source": [
    "### Create Siamese network\n",
    "Putting the network together."
   ]
  },
  {
   "cell_type": "code",
   "execution_count": null,
   "id": "2a059285",
   "metadata": {
    "scrolled": true
   },
   "outputs": [],
   "source": [
    "# anchor branch\n",
    "image_input = Input(shape=(28,28), name='image_input')\n",
    "# positive image branch\n",
    "positive_input = Input(shape=(28,28), name='positive_input')\n",
    "# negative image branch\n",
    "negative_input = Input(shape=(28,28), name='negative_input')\n",
    "\n",
    "siamese = SiameseNet(embedding)([image_input, positive_input, negative_input])\n",
    "loss = TripletLoss(margin=1.0)(siamese)\n",
    "model = Model(inputs=[image_input, positive_input, negative_input], outputs=loss)\n",
    "model.compile(optimizer = tf.keras.optimizers.Adam(), loss = identity_loss)\n",
    "tf.keras.utils.plot_model(model, show_shapes=True)"
   ]
  },
  {
   "cell_type": "markdown",
   "id": "fdd075cc",
   "metadata": {},
   "source": [
    "### Traing the model"
   ]
  },
  {
   "cell_type": "code",
   "execution_count": null,
   "id": "e7fefa94",
   "metadata": {},
   "outputs": [],
   "source": [
    "# we don't need labels, everything is handled inside triplet loss layer, so we just set labels to 1, they will not be used anyway\n",
    "history = model.fit([X_train[:,0], X_train[:,1], X_train[:,2]], np.ones(X_train.shape[0]), batch_size=128, verbose=1, validation_data=([X_test[:,0], X_test[:,1], X_test[:,2]], np.ones(X_test.shape[0])), epochs=20)"
   ]
  },
  {
   "cell_type": "code",
   "execution_count": null,
   "id": "8ca12c0c",
   "metadata": {},
   "outputs": [],
   "source": [
    "def plot_metrics(metric_name, title, ylim=5):\n",
    "    plt.title(title)\n",
    "    plt.ylim(0,ylim)\n",
    "    plt.plot(history.history[metric_name],color='blue',label=metric_name)\n",
    "    plt.plot(history.history['val_' + metric_name],color='green',label='val_' + metric_name)\n",
    "    plt.grid()"
   ]
  },
  {
   "cell_type": "code",
   "execution_count": null,
   "id": "003dc104",
   "metadata": {},
   "outputs": [],
   "source": [
    "plot_metrics(metric_name='loss', title=\"Loss\", ylim=0.2)"
   ]
  },
  {
   "cell_type": "markdown",
   "id": "17c72319",
   "metadata": {},
   "source": [
    "## Predictions\n",
    "\n",
    "First we create pairs for evaluation model."
   ]
  },
  {
   "cell_type": "code",
   "execution_count": null,
   "id": "2156afc3",
   "metadata": {},
   "outputs": [],
   "source": [
    "def create_pairs(data, labels):\n",
    "    pairs_data = []\n",
    "    pairs_labels = []\n",
    "    class_count = len(class_names)\n",
    "    # go per each of cloth class\n",
    "    for i in range(len(labels)):\n",
    "        # class for processing\n",
    "        class_label_length = len(labels[i])\n",
    "        # go for each of item in current cloth class\n",
    "        for j in range(class_label_length - 1):\n",
    "            # get the positive pair - n and n+1 item from current label\n",
    "            idx1, idx2 = labels[i][j], labels[i][j + 1]\n",
    "            # save to list and set label to 1\n",
    "            pairs_data.append([data[idx1], data[idx2]])\n",
    "            pairs_labels.append(1.0)\n",
    "\n",
    "            # random generate increment from 1-9 to add to current class index\n",
    "            inc = random.randrange(1, class_count)\n",
    "            # add increment to class index and apply modulo by class count to get random negative class label index\n",
    "            negative_label_index = (i + inc) % class_count\n",
    "            # take random item from other label items to create a negative pair\n",
    "            negative_sample = random.choice(labels[negative_label_index])\n",
    "            # save negative pair and set label to 0\n",
    "            pairs_data.append([data[idx1], data[negative_sample]])\n",
    "            pairs_labels.append(0.0)\n",
    "    # numpy arrays are easier to work with, so type list into it\n",
    "    return np.array(pairs_data), np.array(pairs_labels)"
   ]
  },
  {
   "cell_type": "markdown",
   "id": "e5481573",
   "metadata": {},
   "source": [
    "Create positive/negative pairs for even/odd indices."
   ]
  },
  {
   "cell_type": "code",
   "execution_count": null,
   "id": "e276e824",
   "metadata": {},
   "outputs": [],
   "source": [
    "X_test, Y_test = create_pairs(test_images, test_classes)"
   ]
  },
  {
   "cell_type": "markdown",
   "id": "eb58b359",
   "metadata": {},
   "source": [
    "Predict feature vectors."
   ]
  },
  {
   "cell_type": "code",
   "execution_count": null,
   "id": "3b8e4593",
   "metadata": {},
   "outputs": [],
   "source": [
    "left_pair = X_test[:,0]\n",
    "left_pair_pred = embedding.predict(left_pair)"
   ]
  },
  {
   "cell_type": "code",
   "execution_count": null,
   "id": "3455850e",
   "metadata": {},
   "outputs": [],
   "source": [
    "right_pair = X_test[:,1]\n",
    "right_pair_pred = embedding.predict(right_pair)"
   ]
  },
  {
   "cell_type": "markdown",
   "id": "a7d918dd",
   "metadata": {},
   "source": [
    "### Positive pair distance descriptive statistics"
   ]
  },
  {
   "cell_type": "code",
   "execution_count": null,
   "id": "cadbea02",
   "metadata": {},
   "outputs": [],
   "source": [
    "positive_left_pred = left_pair_pred[0::2]\n",
    "positive_right_pred = right_pair_pred[0::2]\n",
    "positive_distances = np.linalg.norm(positive_left_pred - positive_right_pred, axis=1)"
   ]
  },
  {
   "cell_type": "code",
   "execution_count": null,
   "id": "88f50b71",
   "metadata": {},
   "outputs": [],
   "source": [
    "pd.Series(positive_distances).describe()"
   ]
  },
  {
   "cell_type": "markdown",
   "id": "29a76c94",
   "metadata": {},
   "source": [
    "### Negative pair distance descriptive statistics"
   ]
  },
  {
   "cell_type": "code",
   "execution_count": null,
   "id": "fb181053",
   "metadata": {},
   "outputs": [],
   "source": [
    "negative_left_pred = left_pair_pred[1::2]\n",
    "negative_right_pred = right_pair_pred[1::2]\n",
    "negative_distances = np.linalg.norm(negative_left_pred - negative_right_pred, axis=1)"
   ]
  },
  {
   "cell_type": "code",
   "execution_count": null,
   "id": "9c8a31ea",
   "metadata": {},
   "outputs": [],
   "source": [
    "pd.Series(negative_distances).describe()"
   ]
  },
  {
   "cell_type": "markdown",
   "id": "b1eca57f",
   "metadata": {},
   "source": [
    "Visualize using box plots."
   ]
  },
  {
   "cell_type": "code",
   "execution_count": null,
   "id": "f0f24138",
   "metadata": {
    "scrolled": true
   },
   "outputs": [],
   "source": [
    "fig = plt.figure()\n",
    "ax = fig.add_axes([0,0,1, 1])\n",
    "ax.boxplot([positive_distances, negative_distances])\n",
    "plt.xticks([1, 2], ['Positive', 'Negative'])\n",
    "ax.grid()\n",
    "plt.show()"
   ]
  },
  {
   "cell_type": "markdown",
   "id": "fad98938",
   "metadata": {},
   "source": [
    "## Calculate model accuracy"
   ]
  },
  {
   "cell_type": "code",
   "execution_count": null,
   "id": "2e02caeb",
   "metadata": {},
   "outputs": [],
   "source": [
    "def compute_accuracy(left_pred, right_pred, y_true):\n",
    "    y_pred = np.linalg.norm(left_pair_pred - right_pair_pred, axis=1)\n",
    "#     # 1 for the same - distance is smaller than 3.0, 0 for the different\n",
    "    pred = y_pred < 7.0\n",
    "    return np.mean(pred == y_true)"
   ]
  },
  {
   "cell_type": "code",
   "execution_count": null,
   "id": "24dd97a5",
   "metadata": {},
   "outputs": [],
   "source": [
    "test_accuracy = compute_accuracy(embedding.predict(X_test[:,0]), embedding.predict(X_test[:,1]), Y_test)\n",
    "print(f'Test accuracy: {test_accuracy*100:.2f}%')"
   ]
  },
  {
   "cell_type": "code",
   "execution_count": null,
   "id": "6fa956aa",
   "metadata": {},
   "outputs": [],
   "source": []
  }
 ],
 "metadata": {
  "kernelspec": {
   "display_name": "Python 3 (ipykernel)",
   "language": "python",
   "name": "python3"
  },
  "language_info": {
   "codemirror_mode": {
    "name": "ipython",
    "version": 3
   },
   "file_extension": ".py",
   "mimetype": "text/x-python",
   "name": "python",
   "nbconvert_exporter": "python",
   "pygments_lexer": "ipython3",
   "version": "3.8.12"
  }
 },
 "nbformat": 4,
 "nbformat_minor": 5
}
