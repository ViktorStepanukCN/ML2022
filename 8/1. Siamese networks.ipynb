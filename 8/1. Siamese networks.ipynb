{
 "cells": [
  {
   "cell_type": "markdown",
   "id": "93f2e5ca",
   "metadata": {},
   "source": [
    "# Siamese networks with contrastive loss\n",
    "\n",
    "Demonstration of implementing Siamese networks on fashion mnist."
   ]
  },
  {
   "cell_type": "code",
   "execution_count": null,
   "id": "85e0c04e",
   "metadata": {},
   "outputs": [],
   "source": [
    "from tensorflow.keras.datasets import fashion_mnist\n",
    "import numpy as np\n",
    "import random\n",
    "import matplotlib.pyplot as plt\n",
    "import tensorflow as tf\n",
    "from tensorflow.keras.models import Model\n",
    "from tensorflow.keras.layers import Input, Flatten, Dense, Dropout, Lambda\n",
    "from tensorflow.keras.optimizers import Adam\n",
    "from tensorflow.python.keras.utils.vis_utils import plot_model\n",
    "import pandas as pd\n",
    "import tensorflow.keras.backend as K"
   ]
  },
  {
   "cell_type": "markdown",
   "id": "96ec9961",
   "metadata": {},
   "source": [
    "## Loading the data\n",
    "Load the data."
   ]
  },
  {
   "cell_type": "code",
   "execution_count": null,
   "id": "dca1bbbd",
   "metadata": {},
   "outputs": [],
   "source": [
    "(train_images, train_labels), (test_images, test_labels) = fashion_mnist.load_data()"
   ]
  },
  {
   "cell_type": "markdown",
   "id": "bcfe9ed0",
   "metadata": {},
   "source": [
    "Normalize colors to be between (0-1)."
   ]
  },
  {
   "cell_type": "code",
   "execution_count": null,
   "id": "fe8778a4",
   "metadata": {},
   "outputs": [],
   "source": [
    "train_images = train_images / 255.0\n",
    "test_images = test_images / 255.0"
   ]
  },
  {
   "cell_type": "markdown",
   "id": "641c3ee0",
   "metadata": {},
   "source": [
    "Set predictions class names."
   ]
  },
  {
   "cell_type": "code",
   "execution_count": null,
   "id": "82140b05",
   "metadata": {},
   "outputs": [],
   "source": [
    "class_names = ['T-shirt/top', 'Trouser', 'Pullover', 'Dress', 'Coat',\n",
    "               'Sandal', 'Shirt', 'Sneaker', 'Bag', 'Ankle boot']"
   ]
  },
  {
   "cell_type": "markdown",
   "id": "6cd2e785",
   "metadata": {},
   "source": [
    "## Data distribution\n",
    "To see the distribution of the data we need first to sort training data by labels.\n",
    "\n",
    "That will also help us generate positive/negative pairs."
   ]
  },
  {
   "cell_type": "code",
   "execution_count": null,
   "id": "8c6aa424",
   "metadata": {},
   "outputs": [],
   "source": [
    "def sort_labels_by_classes(labels):\n",
    "    result = []\n",
    "    for i in range(len(class_names)):\n",
    "        #  np.where returns the indices of elements in an input array where the given condition is satisfied\n",
    "        result.append(np.where(labels == i)[0])\n",
    "    return result"
   ]
  },
  {
   "cell_type": "markdown",
   "id": "e451d5e0",
   "metadata": {},
   "source": [
    "Sort train and test data by labels."
   ]
  },
  {
   "cell_type": "code",
   "execution_count": null,
   "id": "b8504e8e",
   "metadata": {
    "scrolled": false
   },
   "outputs": [],
   "source": [
    "train_classes = sort_labels_by_classes(train_labels)\n",
    "test_classes = sort_labels_by_classes(test_labels)\n",
    "print('Train classes:')\n",
    "display(train_classes)"
   ]
  },
  {
   "cell_type": "markdown",
   "id": "4af4cd52",
   "metadata": {},
   "source": [
    "Plot the distributions."
   ]
  },
  {
   "cell_type": "code",
   "execution_count": null,
   "id": "c4e7ee4a",
   "metadata": {},
   "outputs": [],
   "source": [
    "def plot_distributions(classes, data_type):\n",
    "    # load class names and counts into dictionary for easier work with bar plot function\n",
    "    distribution = {class_names[i]: len(classes[i]) for i in range(len(class_names))}\n",
    "    fig = plt.figure(figsize = (10, 5))\n",
    "    plt.bar(distribution.keys(), distribution.values())\n",
    "    plt.grid()\n",
    "    plt.title(f'{data_type} class distribution')\n",
    "    plt.show()"
   ]
  },
  {
   "cell_type": "code",
   "execution_count": null,
   "id": "02d77ec8",
   "metadata": {},
   "outputs": [],
   "source": [
    "plot_distributions(train_classes, 'Train')"
   ]
  },
  {
   "cell_type": "code",
   "execution_count": null,
   "id": "fc077971",
   "metadata": {},
   "outputs": [],
   "source": [
    "plot_distributions(test_classes, 'Test')"
   ]
  },
  {
   "cell_type": "markdown",
   "id": "22dd8b1c",
   "metadata": {},
   "source": [
    "## Create data pairs\n",
    "\n",
    "Create positive/negative pairs.\n",
    "\n",
    "Function bellow creates positive/negative pairs for even/odd indices."
   ]
  },
  {
   "cell_type": "code",
   "execution_count": null,
   "id": "5a0e76c6",
   "metadata": {},
   "outputs": [],
   "source": [
    "def create_pairs(data, labels):\n",
    "    pairs_data = []\n",
    "    pairs_labels = []\n",
    "    class_count = len(class_names)\n",
    "    # go per each of cloth class\n",
    "    for i in range(len(labels)):\n",
    "        # class for processing\n",
    "        class_label_length = len(labels[i])\n",
    "        # go for each of item in current cloth class\n",
    "        for j in range(class_label_length-1):\n",
    "            # get the positive pair - n and n+1 item from current label\n",
    "            idx1, idx2 = labels[i][j], labels[i][j + 1]\n",
    "            # save to list and set label to 1\n",
    "            pairs_data.append([data[idx1], data[idx2]])\n",
    "            pairs_labels.append(1.0)\n",
    "\n",
    "            # random generate increment from 1-9 to add to current class index\n",
    "            increment = random.randrange(1, class_count)\n",
    "            # add increment to class index and apply modulo by class count to get random negative class label index\n",
    "            negative_label_index = (i + increment) % class_count\n",
    "            # take random item from other label items to create a negative pair\n",
    "            negative_sample = random.choice(labels[negative_label_index])\n",
    "            # save negative pair and set label to 0\n",
    "            pairs_data.append([data[idx1], data[negative_sample]])\n",
    "            pairs_labels.append(0.0)\n",
    "    # numpy arrays are easier to work with, so type list into it\n",
    "    return np.array(pairs_data), np.array(pairs_labels)"
   ]
  },
  {
   "cell_type": "markdown",
   "id": "168e25c1",
   "metadata": {},
   "source": [
    "Create pairs for training."
   ]
  },
  {
   "cell_type": "code",
   "execution_count": null,
   "id": "ca15277b",
   "metadata": {},
   "outputs": [],
   "source": [
    "X_train, Y_train = create_pairs(train_images, train_classes)"
   ]
  },
  {
   "cell_type": "markdown",
   "id": "5982c44d",
   "metadata": {},
   "source": [
    "Create pairs for test."
   ]
  },
  {
   "cell_type": "code",
   "execution_count": null,
   "id": "5af705c2",
   "metadata": {},
   "outputs": [],
   "source": [
    "X_test, Y_test = create_pairs(test_images, test_classes)"
   ]
  },
  {
   "cell_type": "markdown",
   "id": "2a4a89aa",
   "metadata": {},
   "source": [
    "Plot pairs."
   ]
  },
  {
   "cell_type": "code",
   "execution_count": null,
   "id": "6d836179",
   "metadata": {},
   "outputs": [],
   "source": [
    "def show_image(image):\n",
    "    plt.figure()\n",
    "    plt.imshow(image)\n",
    "    plt.colorbar()\n",
    "    plt.grid(False)\n",
    "    plt.show()"
   ]
  },
  {
   "cell_type": "code",
   "execution_count": null,
   "id": "f918cea5",
   "metadata": {
    "scrolled": false
   },
   "outputs": [],
   "source": [
    "# array index - even numbers are positive, odd numbers negative\n",
    "this_pair = 20003\n",
    "\n",
    "# print the label for this pair\n",
    "print(f'Label: {Y_train[this_pair]}')\n",
    "\n",
    "# show images at this index\n",
    "show_image(X_train[this_pair][0])\n",
    "show_image(X_train[this_pair][1])"
   ]
  },
  {
   "cell_type": "markdown",
   "id": "8823eb3e",
   "metadata": {},
   "source": [
    "## Setting up network architecture\n",
    "\n",
    "### Backbone network for Siamese\n",
    "\n",
    "Create backbone network that will be shared by both branches."
   ]
  },
  {
   "cell_type": "code",
   "execution_count": null,
   "id": "28ce43ef",
   "metadata": {},
   "outputs": [],
   "source": [
    "def initialize_base_network():\n",
    "    input = Input(shape=(28,28,))\n",
    "    x = Flatten()(input)\n",
    "    x = Dense(128, activation='relu')(x)\n",
    "    x = Dense(128, activation='relu')(x)\n",
    "    return Model(inputs=input, outputs=x)"
   ]
  },
  {
   "cell_type": "code",
   "execution_count": null,
   "id": "eaffe5bd",
   "metadata": {
    "scrolled": false
   },
   "outputs": [],
   "source": [
    "base_network = initialize_base_network()\n",
    "tf.keras.utils.plot_model(base_network, show_shapes=True)"
   ]
  },
  {
   "cell_type": "markdown",
   "id": "7f1d9864",
   "metadata": {},
   "source": [
    "### Similarity function - Euclidean distance\n",
    "\n",
    "Define Euclidean distance of feature vectors as an output from network.\n",
    "\n",
    "$d=\\sqrt{(p_1 -  q_1)^{2} + (p_2 -  q_2)^{2}}$"
   ]
  },
  {
   "cell_type": "code",
   "execution_count": null,
   "id": "aeb25837",
   "metadata": {},
   "outputs": [],
   "source": [
    "def euclidean_distance(vects):\n",
    "    x, y = vects\n",
    "    sum_square = tf.reduce_sum(tf.square(tf.subtract(x, y)), axis=1, keepdims=True)\n",
    "    return tf.sqrt(tf.maximum(sum_square, K.epsilon()))"
   ]
  },
  {
   "cell_type": "markdown",
   "id": "9951b904",
   "metadata": {},
   "source": [
    "### Create Siamese network\n",
    "Putting the network together."
   ]
  },
  {
   "cell_type": "code",
   "execution_count": null,
   "id": "a6d86ba0",
   "metadata": {
    "scrolled": true
   },
   "outputs": [],
   "source": [
    "# create the left input and point to the base network\n",
    "input_a = Input(shape=(28,28,), name=\"left_input\")\n",
    "vect_output_a = base_network(input_a)\n",
    "\n",
    "# create the right input and point to the base network\n",
    "input_b = Input(shape=(28,28,), name=\"right_input\")\n",
    "vect_output_b = base_network(input_b)\n",
    "\n",
    "# measure the similarity of the two vector outputs\n",
    "output = Lambda(euclidean_distance, name=\"output_layer\")([vect_output_a, vect_output_b])\n",
    "\n",
    "# specify the inputs and output of the model\n",
    "model = Model([input_a, input_b], output)\n",
    "\n",
    "# plot model graph\n",
    "tf.keras.utils.plot_model(model, show_shapes=True)"
   ]
  },
  {
   "cell_type": "markdown",
   "id": "54fd3476",
   "metadata": {},
   "source": [
    "### Contrastive loss\n",
    "Define contrastive loss function."
   ]
  },
  {
   "cell_type": "code",
   "execution_count": null,
   "id": "645250a3",
   "metadata": {},
   "outputs": [],
   "source": [
    "# margin is a parametr settable by developer\n",
    "def contrastive_loss_with_margin(margin):\n",
    "    def contrastive_loss(y_true, y_pred):\n",
    "        '''Contrastive loss from Hadsell-et-al.'06\n",
    "        http://yann.lecun.com/exdb/publis/pdf/hadsell-chopra-lecun-06.pdf\n",
    "        '''\n",
    "        square_pred = tf.square(y_pred)\n",
    "        margin_square = tf.square(tf.maximum(margin - y_pred, 0))\n",
    "        return (y_true * square_pred + (1 - y_true) * margin_square)    \n",
    "    return contrastive_loss"
   ]
  },
  {
   "cell_type": "markdown",
   "id": "2ccb897a",
   "metadata": {},
   "source": [
    "## Train the model"
   ]
  },
  {
   "cell_type": "code",
   "execution_count": null,
   "id": "a2cc6bba",
   "metadata": {
    "scrolled": false
   },
   "outputs": [],
   "source": [
    "%%time\n",
    "model.compile(loss=contrastive_loss_with_margin(margin=1.0), optimizer=Adam())\n",
    "history = model.fit([X_train[:,0], X_train[:,1]], Y_train, batch_size=128, verbose=1, validation_data=([X_test[:,0], X_test[:,1]], Y_test), epochs=20)"
   ]
  },
  {
   "cell_type": "markdown",
   "id": "2bf03608",
   "metadata": {},
   "source": [
    "### Evaluate training"
   ]
  },
  {
   "cell_type": "code",
   "execution_count": null,
   "id": "8116c2bb",
   "metadata": {},
   "outputs": [],
   "source": [
    "def plot_metrics(metric_name, title, ylim=5):\n",
    "    plt.title(title)\n",
    "    plt.ylim(0,ylim)\n",
    "    plt.plot(history.history[metric_name],color='blue',label=metric_name)\n",
    "    plt.plot(history.history['val_' + metric_name],color='green',label='val_' + metric_name)\n",
    "    plt.grid()"
   ]
  },
  {
   "cell_type": "code",
   "execution_count": null,
   "id": "63473712",
   "metadata": {},
   "outputs": [],
   "source": [
    "plot_metrics(metric_name='loss', title=\"Loss\", ylim=0.15)"
   ]
  },
  {
   "attachments": {
    "image.png": {
     "image/png": "[encoded data removed]"
    }
   },
   "cell_type": "markdown",
   "id": "acaa6cfc",
   "metadata": {},
   "source": [
    "## Making predictions\n",
    "\n",
    "We don't need the whole architecture used for training to make a predictions.\n",
    "\n",
    "We need only a feature extractor:\n",
    "![image.png](attachment:image.png)"
   ]
  },
  {
   "cell_type": "markdown",
   "id": "e135cbee",
   "metadata": {},
   "source": [
    "Predict feature vectors for the first image from pairs."
   ]
  },
  {
   "cell_type": "code",
   "execution_count": null,
   "id": "0a7448a5",
   "metadata": {},
   "outputs": [],
   "source": [
    "left_image = X_test[:,0]\n",
    "left_image_feature_vectors = base_network.predict(left_image)"
   ]
  },
  {
   "cell_type": "markdown",
   "id": "5a0e0a28",
   "metadata": {},
   "source": [
    "Predict feature vectors for the second image from pairs."
   ]
  },
  {
   "cell_type": "code",
   "execution_count": null,
   "id": "573b1e3c",
   "metadata": {},
   "outputs": [],
   "source": [
    "right_image = X_test[:,1]\n",
    "right_image_feature_vectors = base_network.predict(right_image)"
   ]
  },
  {
   "cell_type": "markdown",
   "id": "368dcd2d",
   "metadata": {},
   "source": [
    "Get positive/negative image pairs."
   ]
  },
  {
   "cell_type": "code",
   "execution_count": null,
   "id": "2505ece5",
   "metadata": {},
   "outputs": [],
   "source": [
    "positive_left_image_feature_vectors = left_image_feature_vectors[0::2]\n",
    "negative_left_image_feature_vectors = left_image_feature_vectors[1::2]\n",
    "\n",
    "positive_right_image_feature_vectors = right_image_feature_vectors[0::2]\n",
    "negative_right_image_feature_vectors = right_image_feature_vectors[1::2]"
   ]
  },
  {
   "cell_type": "markdown",
   "id": "f78e886f",
   "metadata": {},
   "source": [
    "### Positive pairs distances"
   ]
  },
  {
   "cell_type": "code",
   "execution_count": null,
   "id": "86ad5867",
   "metadata": {},
   "outputs": [],
   "source": [
    "positive_distances = euclidean_distance((positive_left_image_feature_vectors, positive_right_image_feature_vectors)).numpy().flatten()\n",
    "pd.Series(positive_distances).describe()"
   ]
  },
  {
   "cell_type": "markdown",
   "id": "224d74b7",
   "metadata": {},
   "source": [
    "### Negative pairs distances"
   ]
  },
  {
   "cell_type": "code",
   "execution_count": null,
   "id": "7592c94e",
   "metadata": {},
   "outputs": [],
   "source": [
    "negative_distances = euclidean_distance((negative_left_image_feature_vectors, negative_right_image_feature_vectors)).numpy().flatten()\n",
    "pd.Series(negative_distances).describe()"
   ]
  },
  {
   "cell_type": "markdown",
   "id": "abf68312",
   "metadata": {},
   "source": [
    "Visualize using box plots."
   ]
  },
  {
   "cell_type": "code",
   "execution_count": null,
   "id": "2e050315",
   "metadata": {},
   "outputs": [],
   "source": [
    "fig = plt.figure()\n",
    "ax = fig.add_axes([0,0,1, 1])\n",
    "ax.boxplot([positive_distances, negative_distances])\n",
    "plt.xticks([1, 2], ['Positive', 'Negative'])\n",
    "ax.grid()\n",
    "plt.show()"
   ]
  },
  {
   "cell_type": "markdown",
   "id": "a5f5a6b1",
   "metadata": {},
   "source": [
    "## Get model accuracy\n",
    "\n",
    "We need to decide value of threshold for classifying \"same\" and \"different\"."
   ]
  },
  {
   "cell_type": "code",
   "execution_count": null,
   "id": "c7377c17",
   "metadata": {},
   "outputs": [],
   "source": [
    "def compute_accuracy(y_true, y_pred):\n",
    "    # 1 for the same - distance is smaller than 0.5, 0 for the different\n",
    "    pred = y_pred.flatten() < 0.5\n",
    "    return np.mean(pred == y_true)"
   ]
  },
  {
   "cell_type": "code",
   "execution_count": null,
   "id": "1cfdd08e",
   "metadata": {},
   "outputs": [],
   "source": [
    "y_pred_test = model.predict([X_test[:,0], X_test[:,1]])\n",
    "test_accuracy = compute_accuracy(Y_test, y_pred_test)\n",
    "print(f'Test accuracy: {test_accuracy*100:.2f}%')"
   ]
  },
  {
   "cell_type": "markdown",
   "id": "d58e7a6b",
   "metadata": {},
   "source": [
    "## Plot predictions\n",
    "\n",
    "Take random 10 pairs from test set and display distances."
   ]
  },
  {
   "cell_type": "code",
   "execution_count": null,
   "id": "293826e5",
   "metadata": {},
   "outputs": [],
   "source": [
    "def display_images(left, right, predictions, title, n):\n",
    "    plt.figure(figsize=(17,3))\n",
    "    plt.title(title)\n",
    "    plt.yticks([])\n",
    "    plt.xticks([])\n",
    "    plt.grid(None)\n",
    "    # create 1 wide image from 10 different input images\n",
    "    left = np.swapaxes(left, 0, 1)\n",
    "    left = np.reshape(left, [28, 28*n])\n",
    "    plt.imshow(left)\n",
    "    plt.figure(figsize=(17,3))\n",
    "    plt.yticks([])\n",
    "    plt.xticks([28*x+14 for x in range(n)], predictions)\n",
    "    for i,t in enumerate(plt.gca().xaxis.get_ticklabels()):\n",
    "        if predictions[i] > 0.5: \n",
    "            t.set_color('red')\n",
    "    plt.grid(None)\n",
    "    right = np.swapaxes(right, 0, 1)\n",
    "    right = np.reshape(right, [28, 28*n])\n",
    "    plt.imshow(right)"
   ]
  },
  {
   "cell_type": "code",
   "execution_count": null,
   "id": "f7d97e68",
   "metadata": {},
   "outputs": [],
   "source": [
    "y_pred_test = np.squeeze(y_pred_test)\n",
    "indexes = np.random.choice(len(y_pred_test), size=10)\n",
    "display_images(X_test[:, 0][indexes], X_test[:, 1][indexes], y_pred_test[indexes], 'Clothes and their dissimilarity', 10)"
   ]
  },
  {
   "cell_type": "markdown",
   "id": "a642e287",
   "metadata": {},
   "source": [
    "## Inference using feature vectors\n",
    "\n",
    "You can have precomputed values and predict feature vectors only for images neural network has never seen before."
   ]
  },
  {
   "cell_type": "code",
   "execution_count": null,
   "id": "ef4577b6",
   "metadata": {},
   "outputs": [],
   "source": [
    "index = 120"
   ]
  },
  {
   "cell_type": "code",
   "execution_count": null,
   "id": "9495656d",
   "metadata": {},
   "outputs": [],
   "source": [
    "fv_1 = base_network.predict(np.expand_dims(X_test[index, 0], axis=0))\n",
    "print(fv_1)"
   ]
  },
  {
   "cell_type": "code",
   "execution_count": null,
   "id": "fa9d7db7",
   "metadata": {},
   "outputs": [],
   "source": [
    "fv_2 = base_network.predict(np.expand_dims(X_test[index, 1], axis=0))\n",
    "print(fv_2)"
   ]
  },
  {
   "cell_type": "markdown",
   "id": "20670abc",
   "metadata": {},
   "source": [
    "We can use precomputed vectors and just calculate the distance and compare it with the threshold."
   ]
  },
  {
   "cell_type": "code",
   "execution_count": null,
   "id": "4bdbc614",
   "metadata": {},
   "outputs": [],
   "source": [
    "euclidean_distance((fv_1, fv_2))"
   ]
  },
  {
   "cell_type": "markdown",
   "id": "93a869a7",
   "metadata": {},
   "source": [
    "The same result as using whole model for predicting distance."
   ]
  },
  {
   "cell_type": "code",
   "execution_count": null,
   "id": "aa30d701",
   "metadata": {},
   "outputs": [],
   "source": [
    "model.predict([np.expand_dims(X_test[index, 0], axis=0), np.expand_dims(X_test[index, 1], axis=0)])"
   ]
  },
  {
   "cell_type": "code",
   "execution_count": null,
   "id": "d1344ede",
   "metadata": {},
   "outputs": [],
   "source": []
  }
 ],
 "metadata": {
  "kernelspec": {
   "display_name": "Python 3 (ipykernel)",
   "language": "python",
   "name": "python3"
  },
  "language_info": {
   "codemirror_mode": {
    "name": "ipython",
    "version": 3
   },
   "file_extension": ".py",
   "mimetype": "text/x-python",
   "name": "python",
   "nbconvert_exporter": "python",
   "pygments_lexer": "ipython3",
   "version": "3.8.12"
  }
 },
 "nbformat": 4,
 "nbformat_minor": 5
}
